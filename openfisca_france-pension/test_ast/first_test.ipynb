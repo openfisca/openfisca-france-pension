{
 "cells": [
  {
   "cell_type": "code",
   "execution_count": 1,
   "metadata": {},
   "outputs": [],
   "source": [
    "import ast as ast"
   ]
  },
  {
   "cell_type": "code",
   "execution_count": 2,
   "metadata": {},
   "outputs": [],
   "source": [
    "from pprint import pprint"
   ]
  },
  {
   "cell_type": "code",
   "execution_count": 3,
   "metadata": {},
   "outputs": [],
   "source": [
    "import json"
   ]
  },
  {
   "cell_type": "code",
   "execution_count": 4,
   "metadata": {},
   "outputs": [
    {
     "name": "stdout",
     "output_type": "stream",
     "text": [
      "Python 3.8.5\r\n"
     ]
    }
   ],
   "source": [
    "! python --version"
   ]
  },
  {
   "cell_type": "markdown",
   "metadata": {},
   "source": [
    "## Code parsing to AST object"
   ]
  },
  {
   "cell_type": "code",
   "execution_count": 5,
   "metadata": {},
   "outputs": [],
   "source": [
    "tree = ast.parse(\"print('hello world')\")"
   ]
  },
  {
   "cell_type": "code",
   "execution_count": 6,
   "metadata": {},
   "outputs": [
    {
     "data": {
      "text/plain": [
       "<_ast.Module at 0x7fe007f944c0>"
      ]
     },
     "execution_count": 6,
     "metadata": {},
     "output_type": "execute_result"
    }
   ],
   "source": [
    "tree"
   ]
  },
  {
   "cell_type": "code",
   "execution_count": 7,
   "metadata": {},
   "outputs": [
    {
     "name": "stdout",
     "output_type": "stream",
     "text": [
      "hello world\n"
     ]
    }
   ],
   "source": [
    "exec(compile(tree, filename=\"<ast>\", mode=\"exec\"))"
   ]
  },
  {
   "cell_type": "code",
   "execution_count": null,
   "metadata": {},
   "outputs": [],
   "source": []
  },
  {
   "cell_type": "code",
   "execution_count": null,
   "metadata": {},
   "outputs": [],
   "source": []
  },
  {
   "cell_type": "code",
   "execution_count": null,
   "metadata": {},
   "outputs": [],
   "source": []
  },
  {
   "cell_type": "markdown",
   "metadata": {},
   "source": [
    "## AST object  displaying an saving (print, pprint, dump)"
   ]
  },
  {
   "cell_type": "code",
   "execution_count": 8,
   "metadata": {},
   "outputs": [
    {
     "name": "stdout",
     "output_type": "stream",
     "text": [
      "<_ast.Module object at 0x7fe007f944c0>\n"
     ]
    }
   ],
   "source": [
    "print(tree)"
   ]
  },
  {
   "cell_type": "code",
   "execution_count": 9,
   "metadata": {},
   "outputs": [
    {
     "name": "stdout",
     "output_type": "stream",
     "text": [
      "<_ast.Module object at 0x7fe007f944c0>\n"
     ]
    }
   ],
   "source": [
    "pprint(tree)"
   ]
  },
  {
   "cell_type": "code",
   "execution_count": 10,
   "metadata": {},
   "outputs": [
    {
     "data": {
      "text/plain": [
       "\"Module(body=[Expr(value=Call(func=Name(id='print', ctx=Load()), args=[Constant(value='hello world', kind=None)], keywords=[]))], type_ignores=[])\""
      ]
     },
     "execution_count": 10,
     "metadata": {},
     "output_type": "execute_result"
    }
   ],
   "source": [
    "ast.dump(tree)"
   ]
  },
  {
   "cell_type": "code",
   "execution_count": 11,
   "metadata": {},
   "outputs": [
    {
     "name": "stdout",
     "output_type": "stream",
     "text": [
      "Module(body=[Expr(value=Call(func=Name(id='print', ctx=Load()), args=[Constant(value='hello world', kind=None)], keywords=[]))], type_ignores=[])\n"
     ]
    }
   ],
   "source": [
    "print(ast.dump(tree))"
   ]
  },
  {
   "cell_type": "code",
   "execution_count": 12,
   "metadata": {},
   "outputs": [
    {
     "ename": "TypeError",
     "evalue": "dump() got an unexpected keyword argument 'indent'",
     "output_type": "error",
     "traceback": [
      "\u001b[0;31m---------------------------------------------------------------------------\u001b[0m",
      "\u001b[0;31mTypeError\u001b[0m                                 Traceback (most recent call last)",
      "\u001b[0;32m<ipython-input-12-78dd391e1173>\u001b[0m in \u001b[0;36m<module>\u001b[0;34m\u001b[0m\n\u001b[0;32m----> 1\u001b[0;31m \u001b[0mprint\u001b[0m\u001b[0;34m(\u001b[0m\u001b[0mast\u001b[0m\u001b[0;34m.\u001b[0m\u001b[0mdump\u001b[0m\u001b[0;34m(\u001b[0m\u001b[0mast\u001b[0m\u001b[0;34m.\u001b[0m\u001b[0mparse\u001b[0m\u001b[0;34m(\u001b[0m\u001b[0;34m'123'\u001b[0m\u001b[0;34m,\u001b[0m \u001b[0mmode\u001b[0m\u001b[0;34m=\u001b[0m\u001b[0;34m'eval'\u001b[0m\u001b[0;34m)\u001b[0m\u001b[0;34m,\u001b[0m \u001b[0mindent\u001b[0m\u001b[0;34m=\u001b[0m\u001b[0;36m4\u001b[0m\u001b[0;34m)\u001b[0m\u001b[0;34m)\u001b[0m\u001b[0;34m\u001b[0m\u001b[0;34m\u001b[0m\u001b[0m\n\u001b[0m",
      "\u001b[0;31mTypeError\u001b[0m: dump() got an unexpected keyword argument 'indent'"
     ]
    }
   ],
   "source": [
    "print(ast.dump(ast.parse('123', mode='eval'), indent=4))"
   ]
  },
  {
   "cell_type": "code",
   "execution_count": 13,
   "metadata": {},
   "outputs": [
    {
     "ename": "SyntaxError",
     "evalue": "unexpected EOF while parsing (<ipython-input-13-2ddc0dde45b9>, line 1)",
     "output_type": "error",
     "traceback": [
      "\u001b[0;36m  File \u001b[0;32m\"<ipython-input-13-2ddc0dde45b9>\"\u001b[0;36m, line \u001b[0;32m1\u001b[0m\n\u001b[0;31m    print(ast.dump(ast.parse('f\"sin({a}) is {sin(a):.3}\"', mode='eval'), indent=4)\u001b[0m\n\u001b[0m                                                                                  ^\u001b[0m\n\u001b[0;31mSyntaxError\u001b[0m\u001b[0;31m:\u001b[0m unexpected EOF while parsing\n"
     ]
    }
   ],
   "source": [
    "print(ast.dump(ast.parse('f\"sin({a}) is {sin(a):.3}\"', mode='eval'), indent=4)"
   ]
  },
  {
   "cell_type": "code",
   "execution_count": 14,
   "metadata": {},
   "outputs": [
    {
     "ename": "TypeError",
     "evalue": "dump() got an unexpected keyword argument 'indent'",
     "output_type": "error",
     "traceback": [
      "\u001b[0;31m---------------------------------------------------------------------------\u001b[0m",
      "\u001b[0;31mTypeError\u001b[0m                                 Traceback (most recent call last)",
      "\u001b[0;32m<ipython-input-14-21015896e938>\u001b[0m in \u001b[0;36m<module>\u001b[0;34m\u001b[0m\n\u001b[0;32m----> 1\u001b[0;31m \u001b[0mprint\u001b[0m\u001b[0;34m(\u001b[0m\u001b[0mast\u001b[0m\u001b[0;34m.\u001b[0m\u001b[0mdump\u001b[0m\u001b[0;34m(\u001b[0m\u001b[0mtree\u001b[0m\u001b[0;34m,\u001b[0m \u001b[0mindent\u001b[0m\u001b[0;34m=\u001b[0m\u001b[0;36m4\u001b[0m\u001b[0;34m)\u001b[0m\u001b[0;34m)\u001b[0m\u001b[0;34m\u001b[0m\u001b[0;34m\u001b[0m\u001b[0m\n\u001b[0m",
      "\u001b[0;31mTypeError\u001b[0m: dump() got an unexpected keyword argument 'indent'"
     ]
    }
   ],
   "source": [
    "print(ast.dump(tree, indent=4))"
   ]
  },
  {
   "cell_type": "code",
   "execution_count": 15,
   "metadata": {},
   "outputs": [
    {
     "name": "stdout",
     "output_type": "stream",
     "text": [
      "(\"Module(body=[Expr(value=Call(func=Name(id='print', ctx=Load()), \"\n",
      " \"args=[Constant(value='hello world', kind=None)], keywords=[]))], \"\n",
      " 'type_ignores=[])')\n"
     ]
    }
   ],
   "source": [
    "pprint(ast.dump(tree))"
   ]
  },
  {
   "cell_type": "markdown",
   "metadata": {},
   "source": [
    "## AST object (or it's body) to json conversion"
   ]
  },
  {
   "cell_type": "code",
   "execution_count": 16,
   "metadata": {},
   "outputs": [],
   "source": [
    "def save_json(my_dict, filename): \n",
    "    with open (filename, \"w\") as file:\n",
    "        json.dump(my_dict, file)"
   ]
  },
  {
   "cell_type": "code",
   "execution_count": 17,
   "metadata": {},
   "outputs": [],
   "source": [
    "my_dict = {\"a\":\"b\"}\n",
    "save_json(my_dict, \"test_save.json\")"
   ]
  },
  {
   "cell_type": "code",
   "execution_count": 18,
   "metadata": {},
   "outputs": [
    {
     "data": {
      "text/plain": [
       "'\"Module(body=[Expr(value=Call(func=Name(id=\\'print\\', ctx=Load()), args=[Constant(value=\\'hello world\\', kind=None)], keywords=[]))], type_ignores=[])\"'"
      ]
     },
     "execution_count": 18,
     "metadata": {},
     "output_type": "execute_result"
    }
   ],
   "source": [
    "json.dumps(str(ast.dump(tree)))"
   ]
  },
  {
   "cell_type": "code",
   "execution_count": 19,
   "metadata": {},
   "outputs": [
    {
     "data": {
      "text/plain": [
       "'\"[<_ast.Expr object at 0x7fe007f941f0>]\"'"
      ]
     },
     "execution_count": 19,
     "metadata": {},
     "output_type": "execute_result"
    }
   ],
   "source": [
    "json.dumps(str(tree.body))"
   ]
  },
  {
   "cell_type": "code",
   "execution_count": 21,
   "metadata": {},
   "outputs": [
    {
     "name": "stdout",
     "output_type": "stream",
     "text": [
      "Expr(value=Call(func=Name(id='print', ctx=Load()), args=[Constant(value='hello world', kind=None)], keywords=[]))\n"
     ]
    }
   ],
   "source": [
    "print(ast.dump(tree.body[0]))"
   ]
  },
  {
   "cell_type": "code",
   "execution_count": 22,
   "metadata": {},
   "outputs": [
    {
     "data": {
      "text/plain": [
       "'\"[<_ast.Expr object at 0x7fe007f941f0>]\"'"
      ]
     },
     "execution_count": 22,
     "metadata": {},
     "output_type": "execute_result"
    }
   ],
   "source": [
    "json.dumps(str(tree.body))"
   ]
  },
  {
   "cell_type": "code",
   "execution_count": 23,
   "metadata": {},
   "outputs": [],
   "source": [
    "ast_json = json.dumps(str(ast.dump(tree)))"
   ]
  },
  {
   "cell_type": "code",
   "execution_count": 24,
   "metadata": {},
   "outputs": [],
   "source": [
    "save_json(str(ast.dump(tree)), \"test2.json\")"
   ]
  },
  {
   "cell_type": "code",
   "execution_count": null,
   "metadata": {},
   "outputs": [],
   "source": []
  },
  {
   "cell_type": "markdown",
   "metadata": {},
   "source": [
    "## AST test for regime.py"
   ]
  },
  {
   "cell_type": "markdown",
   "metadata": {},
   "source": [
    "### Read the file with to ast object"
   ]
  },
  {
   "cell_type": "code",
   "execution_count": 25,
   "metadata": {},
   "outputs": [],
   "source": [
    "filename = \"../regimes/regime.py\"\n",
    "with open(filename, encoding='utf-8') as f:\n",
    "    code = f.read()"
   ]
  },
  {
   "cell_type": "code",
   "execution_count": 26,
   "metadata": {},
   "outputs": [
    {
     "data": {
      "text/plain": [
       "'from datetime import date\\n\\n\\nfrom openfisca_core.model_api import max_\\nfrom openfisca_core.periods import MONTH, ETERNITY\\nfrom openfisca_core.variables import Variable\\n\\n# Import the Entities specifically defined for this tax and benefit system\\nfrom openfisca_france_pension.entities import Household, Person\\n\\n\\nclass Regime(object):\\n    name = None\\n    prefix = None\\n    parameters = None\\n\\n    class salaire_brut(Variable):\\n        value_type = float\\n        entity = Person\\n        definition_period = MONTH\\n        label = \"Salaire brut\"\\n\\n\\n    class surcote_debut_date(Variable):\\n        value_type = date\\n        entity = Person\\n        definition_period = ETERNITY\\n        label = \"Date du début de la surcote\"\\n\\n\\n    class decote_annulation_date(Variable):\\n        value_type = date\\n        entity = Person\\n        definition_period = ETERNITY\\n        label = \"Date d\\'annulation de la décote\\'\"\\n\\n\\n    class taux_plein_date(Variable):\\n        value_type = date\\n        entity = Person\\n        definition_period = ETERNITY\\n        label = \"Date du taux plein\"\\n\\n\\n    class taux_de_liquidation(Variable):\\n        value_type = float\\n        entity = Person\\n        definition_period = YEAR\\n        label = \"Taux de liquidation de la pension\"\\n\\n        def formula(individu, period, parameters):\\n            # liquidation_age = individu(\\'liquidation_age\\', period)\\n            # date_de_naissance = individu(\\'date_de_naissance\\', period)\\n            decote = individu(\\'decote\\', period)\\n            surcote = individu(\\'surcote\\', period)\\n\\n            taux_plein = parameters(period).plein.taux\\n\\n        return taux_plein * (1 - decote + surcote)\\n\\n\\n    class cotisation_retraite(Variable):\\n        value_type = float\\n        entity = Person\\n        definition_period = MONTH\\n        label = \"cotisation retraite\"\\n\\n        def formula(individu, period, parameters):\\n            salaire_brut = individu(\\'salaire_brut\\', period)\\n            taux = parameters(period).cotisation.taux\\n            return salaire_brut * taux\\n\\n\\nclass RegimeDeBase(Regime):\\n    name = \"Régime de base\"\\n    prefix = \"regime_de_base\"\\n    parameters = \"parameters/regime_de_base\"\\n\\n    class salaire_de_reference(Variable):\\n        value_type = float\\n        entity = Person\\n        definition_period = ETERNITY\\n        label = \"Salaire de référence\"\\n\\n\\n    class trimestres(Variable):\\n        value_type = int\\n        entity = Person\\n        definition_period = YEAR\\n        label = \"Trimestres\"\\n\\n\\n    class majoration_pension(Variable):\\n        value_type = int\\n        entity = Person\\n        definition_period = MONTH\\n        label = \"Majoration de pension\"\\n\\n\\n    class decote(Variable):\\n        value_type = float\\n        entity = Person\\n        definition_period = YEAR\\n        label = \"Décote\"\\n\\n        def formula(individu, period, parameters):\\n            taux = parameters(period).decote.taux\\n            trimestres_debut = parameters(period).decote.trimestres_debut\\n            trimestres = individu(\\'trimestres\\', period)\\n            return decote * max_(trimestres - trimestres, 0)\\n\\n\\n    class pension_brute(Variable):\\n        value_type = float\\n        entity = Person\\n        definition_period = YEAR\\n        label = \"Décote\"\\n\\n        def formula(individu, period, parameters):\\n            coefficent_de_proratisation = individu(\\'coefficent_de_proratisation\\', period)\\n            salaire_de_reference = individu(\\'salaire_de_reference\\', period)\\n            taux_de_liquidation = individu(\\'taux_de_liquidation\\', period)\\n\\n            return coefficent_de_proratisation * salaire_de_reference * taux_de_liquidation\\n\\n\\n    def pension(individu, period,):\\n        return (\\n            individu(\\'pension_brute\\', period)\\n            + individu(\\'majoration_pension\\', period)\\n            )\\n\\n\\n# class RegimeComplementaires(Regime):\\n#     def nombre_points(self, data, sali_for_regime):\\n#         \\'\\'\\' Détermine le nombre de point à liquidation de la pension dans les\\n#         régimes complémentaires (pour l\\'instant Ok pour ARRCO/AGIRC)\\n#         Pour calculer ces points, il faut diviser la cotisation annuelle\\n#         ouvrant des droits par le salaire de référence de l\\'année concernée\\n#         et multiplier par le taux d\\'acquisition des points\\'\\'\\'\\n#         Plong_regime = reduce(getattr, self.param_name.split(\\'.\\'), self.P_longit)\\n#         # getattr(self.P_longit.prive.complementaire,  self.name)\\n#         salref = Plong_regime.sal_ref\\n#         taux_cot = Plong_regime.taux_cot_moy\\n#         sali_plaf = sali_for_regime\\n#         assert len(salref) == sali_plaf.shape[1] == len(taux_cot)\\n#         nombre_points = zeros(sali_plaf.shape)\\n#         for ix_year in range(sali_plaf.shape[1]):\\n#             if salref[ix_year] > 0:\\n#                 nombre_points[:, ix_year] = (taux_cot[ix_year].calc(sali_plaf[:, ix_year]) / salref[ix_year])\\n#         nb_points_by_year = nombre_points.round(2)\\n#         return nb_points_by_year\\n\\n#     def coefficient_age(self, data, nb_trimesters, trim_decote):\\n#         \\'\\'\\' TODO: add surcote  pour avant 1955 \\'\\'\\'\\n#         P = reduce(getattr, self.param_name.split(\\'.\\'), self.P)\\n#         coef_mino = P.coef_mino\\n#         agem = data.info_ind[\\'agem\\']\\n#         # print data.info_ind.dtype.names\\n#         age_annulation_decote = self.P.prive.RG.decote.age_null\\n#         diff_age = divide(age_annulation_decote - agem, 12) * (age_annulation_decote > agem)\\n#         if P.cond_taux_plein == 1:\\n#             diff_trim = minimum(diff_age, divide(trim_decote, 4))\\n#         coeff_min = zeros(len(agem))\\n#         for nb_annees, coef_mino in coef_mino._tranches:\\n#             coeff_min += (diff_trim == nb_annees) * coef_mino\\n#         coeff_min += P.coeff_maj * diff_age\\n#         if P.cond_taux_plein == 1:\\n#             # Dans ce cas, la minoration ne s\\'applique que si la durée de cotisation\\n#             # au régime général est inférieure à celle requise pour le taux plein\\n#             n_trim = self.P.prive.RG.plein.n_trim\\n#             # la bonne formule est la suivante :\\n#             coeff_min = coeff_min * (n_trim > nb_trimesters) + (n_trim <= nb_trimesters)\\n#             # mais on a ça...\\n#             coeff_min = 1\\n#         return coeff_min\\n\\n#     def nb_points_enf(self, data, nombre_points):\\n#         \\'\\'\\' Application de la majoration pour enfants à charge. Deux types de\\n#         majorations peuvent s\\'appliquer :\\n#           - pour enfant à charge au moment du départ en retraite\\n#           - pour enfant nés et élevés en cours de carrière (majoration sur la totalité des droits acquis)\\n#         C\\'est la plus avantageuse qui s\\'applique.\\'\\'\\'\\n#         P = reduce(getattr, self.param_name.split(\\'.\\'), self.P)\\n#         P_long = reduce(getattr, self.param_name.split(\\'.\\'), self.P_longit).maj_enf\\n#         nb_pac = data.info_ind[\\'nb_pac\\'].copy()\\n#         nb_born = data.info_ind[\\'nb_enf_all\\'].copy()\\n#         # 1- Calcul des points pour enfants à charge\\n#         taux_pac = P.maj_enf.pac.taux\\n#         points_pac = nombre_points.sum(axis=1) * taux_pac * nb_pac\\n\\n#         # 2- Calcul des points pour enfants nés ou élevés\\n#         points_born = zeros(len(nb_pac))\\n#         nb_enf_maj = zeros(len(nb_pac))\\n#         for num_dispo in [0, 1]:\\n#             P_dispositif = getattr(P.maj_enf.born, \\'dispositif\\' + str(num_dispo))\\n#             selected_dates = getattr(P_long.born, \\'dispositif\\' + str(num_dispo)).dates\\n#             taux_dispositif = P_dispositif.taux\\n#             nb_enf_min = P_dispositif.nb_enf_min\\n#             nb_points_dates = multiply(nombre_points, selected_dates).sum(axis=1)\\n#             nb_points_enf = nb_points_dates * taux_dispositif * (nb_born >= nb_enf_min)\\n#             if hasattr(P_dispositif, \\'taux_maj\\'):\\n#                 taux_maj = P_dispositif.taux_maj\\n#                 plaf_nb = P_dispositif.nb_enf_count\\n#                 nb_enf_maj = maximum(minimum(nb_born, plaf_nb) - nb_enf_min, 0)\\n#                 nb_points_enf += nb_enf_maj * taux_maj * nb_points_dates\\n\\n#             points_born += nb_points_enf\\n#         # Retourne la situation la plus avantageuse\\n#         return maximum(points_born, points_pac)\\n\\n#     def majoration_pension(self, nb_points_enf):\\n#         P = reduce(getattr, self.param_name.split(\\'.\\'), self.P)\\n#         val_point = P.val_point\\n#         return nb_points_enf * val_point\\n\\n#     def nb_points_cot(self, nombre_points):\\n#         return nombre_points.sum(axis=1)\\n\\n#     def pension(self, data, coefficient_age, pension_brute_b,\\n#                 majoration_pension, trim_decote):\\n#         \\'\\'\\' le régime Arrco ne tient pas compte du coefficient de\\n#         minoration pour le calcul des majorations pour enfants \\'\\'\\'\\n#         P = reduce(getattr, self.param_name.split(\\'.\\'), self.P)\\n#         pension = pension_brute_b + majoration_pension\\n#         decote = trim_decote * P.taux_decote\\n#         pension = (1 - decote) * pension\\n#         return pension * coefficient_age\\n\\n#     def pension_brute(self, nb_points, minimum_points):\\n#         P = reduce(getattr, self.param_name.split(\\'.\\'), self.P)\\n#         val_point = P.val_point\\n#         pension_brute = (nb_points + minimum_points) * val_point\\n#         return pension_brute\\n\\n#     def cotisations(self, sali_for_regime):\\n#         \\'\\'\\' Calcul des cotisations passées par année\\'\\'\\'\\n#         sali = sali_for_regime.copy()\\n#         assert self.P_cot is not None, \\'self.P_cot should be not None\\'\\n#         Pcot_regime = reduce(getattr, self.param_name.split(\\'.\\'), self.P_cot)\\n#         # getattr(self.P_longit.prive.complementaire,  self.name)\\n#         taux_pat = Pcot_regime.cot_pat\\n#         taux_sal = Pcot_regime.cot_sal\\n#         assert len(taux_pat) == sali.shape[1] == len(taux_sal)\\n#         cot_sal_by_year = zeros(sali.shape)\\n#         cot_pat_by_year = zeros(sali.shape)\\n#         for ix_year in range(sali.shape[1]):\\n#             cot_sal_by_year[:, ix_year] = taux_sal[ix_year].calc(sali[:, ix_year])\\n#             cot_pat_by_year[:, ix_year] = taux_pat[ix_year].calc(sali[:, ix_year])\\n#         if not self.sal_nominal:\\n#             revalo = self.P_longit.prive.RG.revalo\\n#             revalo = array(revalo)\\n#             for i in range(1, len(revalo)):\\n#                 revalo[:i] *= revalo[i]\\n#             cot_sal_by_year = multiply(cot_sal_by_year, revalo)\\n#             cot_pat_by_year = multiply(cot_pat_by_year, revalo)\\n#         return {\\'sal\\': cot_sal_by_year, \\'pat\\': cot_pat_by_year}\\n'"
      ]
     },
     "execution_count": 26,
     "metadata": {},
     "output_type": "execute_result"
    }
   ],
   "source": [
    "code"
   ]
  },
  {
   "cell_type": "code",
   "execution_count": 27,
   "metadata": {},
   "outputs": [],
   "source": [
    "lines =  [None] + code.splitlines()"
   ]
  },
  {
   "cell_type": "code",
   "execution_count": 28,
   "metadata": {},
   "outputs": [
    {
     "data": {
      "text/plain": [
       "[None,\n",
       " 'from datetime import date',\n",
       " '',\n",
       " '',\n",
       " 'from openfisca_core.model_api import max_',\n",
       " 'from openfisca_core.periods import MONTH, ETERNITY',\n",
       " 'from openfisca_core.variables import Variable',\n",
       " '',\n",
       " '# Import the Entities specifically defined for this tax and benefit system',\n",
       " 'from openfisca_france_pension.entities import Household, Person',\n",
       " '',\n",
       " '',\n",
       " 'class Regime(object):',\n",
       " '    name = None',\n",
       " '    prefix = None',\n",
       " '    parameters = None',\n",
       " '',\n",
       " '    class salaire_brut(Variable):',\n",
       " '        value_type = float',\n",
       " '        entity = Person',\n",
       " '        definition_period = MONTH',\n",
       " '        label = \"Salaire brut\"',\n",
       " '',\n",
       " '',\n",
       " '    class surcote_debut_date(Variable):',\n",
       " '        value_type = date',\n",
       " '        entity = Person',\n",
       " '        definition_period = ETERNITY',\n",
       " '        label = \"Date du début de la surcote\"',\n",
       " '',\n",
       " '',\n",
       " '    class decote_annulation_date(Variable):',\n",
       " '        value_type = date',\n",
       " '        entity = Person',\n",
       " '        definition_period = ETERNITY',\n",
       " '        label = \"Date d\\'annulation de la décote\\'\"',\n",
       " '',\n",
       " '',\n",
       " '    class taux_plein_date(Variable):',\n",
       " '        value_type = date',\n",
       " '        entity = Person',\n",
       " '        definition_period = ETERNITY',\n",
       " '        label = \"Date du taux plein\"',\n",
       " '',\n",
       " '',\n",
       " '    class taux_de_liquidation(Variable):',\n",
       " '        value_type = float',\n",
       " '        entity = Person',\n",
       " '        definition_period = YEAR',\n",
       " '        label = \"Taux de liquidation de la pension\"',\n",
       " '',\n",
       " '        def formula(individu, period, parameters):',\n",
       " \"            # liquidation_age = individu('liquidation_age', period)\",\n",
       " \"            # date_de_naissance = individu('date_de_naissance', period)\",\n",
       " \"            decote = individu('decote', period)\",\n",
       " \"            surcote = individu('surcote', period)\",\n",
       " '',\n",
       " '            taux_plein = parameters(period).plein.taux',\n",
       " '',\n",
       " '        return taux_plein * (1 - decote + surcote)',\n",
       " '',\n",
       " '',\n",
       " '    class cotisation_retraite(Variable):',\n",
       " '        value_type = float',\n",
       " '        entity = Person',\n",
       " '        definition_period = MONTH',\n",
       " '        label = \"cotisation retraite\"',\n",
       " '',\n",
       " '        def formula(individu, period, parameters):',\n",
       " \"            salaire_brut = individu('salaire_brut', period)\",\n",
       " '            taux = parameters(period).cotisation.taux',\n",
       " '            return salaire_brut * taux',\n",
       " '',\n",
       " '',\n",
       " 'class RegimeDeBase(Regime):',\n",
       " '    name = \"Régime de base\"',\n",
       " '    prefix = \"regime_de_base\"',\n",
       " '    parameters = \"parameters/regime_de_base\"',\n",
       " '',\n",
       " '    class salaire_de_reference(Variable):',\n",
       " '        value_type = float',\n",
       " '        entity = Person',\n",
       " '        definition_period = ETERNITY',\n",
       " '        label = \"Salaire de référence\"',\n",
       " '',\n",
       " '',\n",
       " '    class trimestres(Variable):',\n",
       " '        value_type = int',\n",
       " '        entity = Person',\n",
       " '        definition_period = YEAR',\n",
       " '        label = \"Trimestres\"',\n",
       " '',\n",
       " '',\n",
       " '    class majoration_pension(Variable):',\n",
       " '        value_type = int',\n",
       " '        entity = Person',\n",
       " '        definition_period = MONTH',\n",
       " '        label = \"Majoration de pension\"',\n",
       " '',\n",
       " '',\n",
       " '    class decote(Variable):',\n",
       " '        value_type = float',\n",
       " '        entity = Person',\n",
       " '        definition_period = YEAR',\n",
       " '        label = \"Décote\"',\n",
       " '',\n",
       " '        def formula(individu, period, parameters):',\n",
       " '            taux = parameters(period).decote.taux',\n",
       " '            trimestres_debut = parameters(period).decote.trimestres_debut',\n",
       " \"            trimestres = individu('trimestres', period)\",\n",
       " '            return decote * max_(trimestres - trimestres, 0)',\n",
       " '',\n",
       " '',\n",
       " '    class pension_brute(Variable):',\n",
       " '        value_type = float',\n",
       " '        entity = Person',\n",
       " '        definition_period = YEAR',\n",
       " '        label = \"Décote\"',\n",
       " '',\n",
       " '        def formula(individu, period, parameters):',\n",
       " \"            coefficent_de_proratisation = individu('coefficent_de_proratisation', period)\",\n",
       " \"            salaire_de_reference = individu('salaire_de_reference', period)\",\n",
       " \"            taux_de_liquidation = individu('taux_de_liquidation', period)\",\n",
       " '',\n",
       " '            return coefficent_de_proratisation * salaire_de_reference * taux_de_liquidation',\n",
       " '',\n",
       " '',\n",
       " '    def pension(individu, period,):',\n",
       " '        return (',\n",
       " \"            individu('pension_brute', period)\",\n",
       " \"            + individu('majoration_pension', period)\",\n",
       " '            )',\n",
       " '',\n",
       " '',\n",
       " '# class RegimeComplementaires(Regime):',\n",
       " '#     def nombre_points(self, data, sali_for_regime):',\n",
       " \"#         ''' Détermine le nombre de point à liquidation de la pension dans les\",\n",
       " \"#         régimes complémentaires (pour l'instant Ok pour ARRCO/AGIRC)\",\n",
       " '#         Pour calculer ces points, il faut diviser la cotisation annuelle',\n",
       " \"#         ouvrant des droits par le salaire de référence de l'année concernée\",\n",
       " \"#         et multiplier par le taux d'acquisition des points'''\",\n",
       " \"#         Plong_regime = reduce(getattr, self.param_name.split('.'), self.P_longit)\",\n",
       " '#         # getattr(self.P_longit.prive.complementaire,  self.name)',\n",
       " '#         salref = Plong_regime.sal_ref',\n",
       " '#         taux_cot = Plong_regime.taux_cot_moy',\n",
       " '#         sali_plaf = sali_for_regime',\n",
       " '#         assert len(salref) == sali_plaf.shape[1] == len(taux_cot)',\n",
       " '#         nombre_points = zeros(sali_plaf.shape)',\n",
       " '#         for ix_year in range(sali_plaf.shape[1]):',\n",
       " '#             if salref[ix_year] > 0:',\n",
       " '#                 nombre_points[:, ix_year] = (taux_cot[ix_year].calc(sali_plaf[:, ix_year]) / salref[ix_year])',\n",
       " '#         nb_points_by_year = nombre_points.round(2)',\n",
       " '#         return nb_points_by_year',\n",
       " '',\n",
       " '#     def coefficient_age(self, data, nb_trimesters, trim_decote):',\n",
       " \"#         ''' TODO: add surcote  pour avant 1955 '''\",\n",
       " \"#         P = reduce(getattr, self.param_name.split('.'), self.P)\",\n",
       " '#         coef_mino = P.coef_mino',\n",
       " \"#         agem = data.info_ind['agem']\",\n",
       " '#         # print data.info_ind.dtype.names',\n",
       " '#         age_annulation_decote = self.P.prive.RG.decote.age_null',\n",
       " '#         diff_age = divide(age_annulation_decote - agem, 12) * (age_annulation_decote > agem)',\n",
       " '#         if P.cond_taux_plein == 1:',\n",
       " '#             diff_trim = minimum(diff_age, divide(trim_decote, 4))',\n",
       " '#         coeff_min = zeros(len(agem))',\n",
       " '#         for nb_annees, coef_mino in coef_mino._tranches:',\n",
       " '#             coeff_min += (diff_trim == nb_annees) * coef_mino',\n",
       " '#         coeff_min += P.coeff_maj * diff_age',\n",
       " '#         if P.cond_taux_plein == 1:',\n",
       " \"#             # Dans ce cas, la minoration ne s'applique que si la durée de cotisation\",\n",
       " '#             # au régime général est inférieure à celle requise pour le taux plein',\n",
       " '#             n_trim = self.P.prive.RG.plein.n_trim',\n",
       " '#             # la bonne formule est la suivante :',\n",
       " '#             coeff_min = coeff_min * (n_trim > nb_trimesters) + (n_trim <= nb_trimesters)',\n",
       " '#             # mais on a ça...',\n",
       " '#             coeff_min = 1',\n",
       " '#         return coeff_min',\n",
       " '',\n",
       " '#     def nb_points_enf(self, data, nombre_points):',\n",
       " \"#         ''' Application de la majoration pour enfants à charge. Deux types de\",\n",
       " \"#         majorations peuvent s'appliquer :\",\n",
       " '#           - pour enfant à charge au moment du départ en retraite',\n",
       " '#           - pour enfant nés et élevés en cours de carrière (majoration sur la totalité des droits acquis)',\n",
       " \"#         C'est la plus avantageuse qui s'applique.'''\",\n",
       " \"#         P = reduce(getattr, self.param_name.split('.'), self.P)\",\n",
       " \"#         P_long = reduce(getattr, self.param_name.split('.'), self.P_longit).maj_enf\",\n",
       " \"#         nb_pac = data.info_ind['nb_pac'].copy()\",\n",
       " \"#         nb_born = data.info_ind['nb_enf_all'].copy()\",\n",
       " '#         # 1- Calcul des points pour enfants à charge',\n",
       " '#         taux_pac = P.maj_enf.pac.taux',\n",
       " '#         points_pac = nombre_points.sum(axis=1) * taux_pac * nb_pac',\n",
       " '',\n",
       " '#         # 2- Calcul des points pour enfants nés ou élevés',\n",
       " '#         points_born = zeros(len(nb_pac))',\n",
       " '#         nb_enf_maj = zeros(len(nb_pac))',\n",
       " '#         for num_dispo in [0, 1]:',\n",
       " \"#             P_dispositif = getattr(P.maj_enf.born, 'dispositif' + str(num_dispo))\",\n",
       " \"#             selected_dates = getattr(P_long.born, 'dispositif' + str(num_dispo)).dates\",\n",
       " '#             taux_dispositif = P_dispositif.taux',\n",
       " '#             nb_enf_min = P_dispositif.nb_enf_min',\n",
       " '#             nb_points_dates = multiply(nombre_points, selected_dates).sum(axis=1)',\n",
       " '#             nb_points_enf = nb_points_dates * taux_dispositif * (nb_born >= nb_enf_min)',\n",
       " \"#             if hasattr(P_dispositif, 'taux_maj'):\",\n",
       " '#                 taux_maj = P_dispositif.taux_maj',\n",
       " '#                 plaf_nb = P_dispositif.nb_enf_count',\n",
       " '#                 nb_enf_maj = maximum(minimum(nb_born, plaf_nb) - nb_enf_min, 0)',\n",
       " '#                 nb_points_enf += nb_enf_maj * taux_maj * nb_points_dates',\n",
       " '',\n",
       " '#             points_born += nb_points_enf',\n",
       " '#         # Retourne la situation la plus avantageuse',\n",
       " '#         return maximum(points_born, points_pac)',\n",
       " '',\n",
       " '#     def majoration_pension(self, nb_points_enf):',\n",
       " \"#         P = reduce(getattr, self.param_name.split('.'), self.P)\",\n",
       " '#         val_point = P.val_point',\n",
       " '#         return nb_points_enf * val_point',\n",
       " '',\n",
       " '#     def nb_points_cot(self, nombre_points):',\n",
       " '#         return nombre_points.sum(axis=1)',\n",
       " '',\n",
       " '#     def pension(self, data, coefficient_age, pension_brute_b,',\n",
       " '#                 majoration_pension, trim_decote):',\n",
       " \"#         ''' le régime Arrco ne tient pas compte du coefficient de\",\n",
       " \"#         minoration pour le calcul des majorations pour enfants '''\",\n",
       " \"#         P = reduce(getattr, self.param_name.split('.'), self.P)\",\n",
       " '#         pension = pension_brute_b + majoration_pension',\n",
       " '#         decote = trim_decote * P.taux_decote',\n",
       " '#         pension = (1 - decote) * pension',\n",
       " '#         return pension * coefficient_age',\n",
       " '',\n",
       " '#     def pension_brute(self, nb_points, minimum_points):',\n",
       " \"#         P = reduce(getattr, self.param_name.split('.'), self.P)\",\n",
       " '#         val_point = P.val_point',\n",
       " '#         pension_brute = (nb_points + minimum_points) * val_point',\n",
       " '#         return pension_brute',\n",
       " '',\n",
       " '#     def cotisations(self, sali_for_regime):',\n",
       " \"#         ''' Calcul des cotisations passées par année'''\",\n",
       " '#         sali = sali_for_regime.copy()',\n",
       " \"#         assert self.P_cot is not None, 'self.P_cot should be not None'\",\n",
       " \"#         Pcot_regime = reduce(getattr, self.param_name.split('.'), self.P_cot)\",\n",
       " '#         # getattr(self.P_longit.prive.complementaire,  self.name)',\n",
       " '#         taux_pat = Pcot_regime.cot_pat',\n",
       " '#         taux_sal = Pcot_regime.cot_sal',\n",
       " '#         assert len(taux_pat) == sali.shape[1] == len(taux_sal)',\n",
       " '#         cot_sal_by_year = zeros(sali.shape)',\n",
       " '#         cot_pat_by_year = zeros(sali.shape)',\n",
       " '#         for ix_year in range(sali.shape[1]):',\n",
       " '#             cot_sal_by_year[:, ix_year] = taux_sal[ix_year].calc(sali[:, ix_year])',\n",
       " '#             cot_pat_by_year[:, ix_year] = taux_pat[ix_year].calc(sali[:, ix_year])',\n",
       " '#         if not self.sal_nominal:',\n",
       " '#             revalo = self.P_longit.prive.RG.revalo',\n",
       " '#             revalo = array(revalo)',\n",
       " '#             for i in range(1, len(revalo)):',\n",
       " '#                 revalo[:i] *= revalo[i]',\n",
       " '#             cot_sal_by_year = multiply(cot_sal_by_year, revalo)',\n",
       " '#             cot_pat_by_year = multiply(cot_pat_by_year, revalo)',\n",
       " \"#         return {'sal': cot_sal_by_year, 'pat': cot_pat_by_year}\"]"
      ]
     },
     "execution_count": 28,
     "metadata": {},
     "output_type": "execute_result"
    }
   ],
   "source": [
    "lines"
   ]
  },
  {
   "cell_type": "code",
   "execution_count": 49,
   "metadata": {},
   "outputs": [],
   "source": [
    "tree = ast.parse(code)"
   ]
  },
  {
   "cell_type": "code",
   "execution_count": 50,
   "metadata": {
    "scrolled": true
   },
   "outputs": [
    {
     "name": "stdout",
     "output_type": "stream",
     "text": [
      "<_ast.Module object at 0x7fe00808f790>\n"
     ]
    }
   ],
   "source": [
    "print(tree)"
   ]
  },
  {
   "cell_type": "code",
   "execution_count": 51,
   "metadata": {},
   "outputs": [
    {
     "name": "stdout",
     "output_type": "stream",
     "text": [
      "Module(body=[ImportFrom(module='datetime', names=[alias(name='date', asname=None)], level=0), ImportFrom(module='openfisca_core.model_api', names=[alias(name='max_', asname=None)], level=0), ImportFrom(module='openfisca_core.periods', names=[alias(name='MONTH', asname=None), alias(name='ETERNITY', asname=None)], level=0), ImportFrom(module='openfisca_core.variables', names=[alias(name='Variable', asname=None)], level=0), ImportFrom(module='openfisca_france_pension.entities', names=[alias(name='Household', asname=None), alias(name='Person', asname=None)], level=0), ClassDef(name='Regime', bases=[Name(id='object', ctx=Load())], keywords=[], body=[Assign(targets=[Name(id='name', ctx=Store())], value=Constant(value=None, kind=None), type_comment=None), Assign(targets=[Name(id='prefix', ctx=Store())], value=Constant(value=None, kind=None), type_comment=None), Assign(targets=[Name(id='parameters', ctx=Store())], value=Constant(value=None, kind=None), type_comment=None), ClassDef(name='salaire_brut', bases=[Name(id='Variable', ctx=Load())], keywords=[], body=[Assign(targets=[Name(id='value_type', ctx=Store())], value=Name(id='float', ctx=Load()), type_comment=None), Assign(targets=[Name(id='entity', ctx=Store())], value=Name(id='Person', ctx=Load()), type_comment=None), Assign(targets=[Name(id='definition_period', ctx=Store())], value=Name(id='MONTH', ctx=Load()), type_comment=None), Assign(targets=[Name(id='label', ctx=Store())], value=Constant(value='Salaire brut', kind=None), type_comment=None)], decorator_list=[]), ClassDef(name='surcote_debut_date', bases=[Name(id='Variable', ctx=Load())], keywords=[], body=[Assign(targets=[Name(id='value_type', ctx=Store())], value=Name(id='date', ctx=Load()), type_comment=None), Assign(targets=[Name(id='entity', ctx=Store())], value=Name(id='Person', ctx=Load()), type_comment=None), Assign(targets=[Name(id='definition_period', ctx=Store())], value=Name(id='ETERNITY', ctx=Load()), type_comment=None), Assign(targets=[Name(id='label', ctx=Store())], value=Constant(value='Date du début de la surcote', kind=None), type_comment=None)], decorator_list=[]), ClassDef(name='decote_annulation_date', bases=[Name(id='Variable', ctx=Load())], keywords=[], body=[Assign(targets=[Name(id='value_type', ctx=Store())], value=Name(id='date', ctx=Load()), type_comment=None), Assign(targets=[Name(id='entity', ctx=Store())], value=Name(id='Person', ctx=Load()), type_comment=None), Assign(targets=[Name(id='definition_period', ctx=Store())], value=Name(id='ETERNITY', ctx=Load()), type_comment=None), Assign(targets=[Name(id='label', ctx=Store())], value=Constant(value=\"Date d'annulation de la décote'\", kind=None), type_comment=None)], decorator_list=[]), ClassDef(name='taux_plein_date', bases=[Name(id='Variable', ctx=Load())], keywords=[], body=[Assign(targets=[Name(id='value_type', ctx=Store())], value=Name(id='date', ctx=Load()), type_comment=None), Assign(targets=[Name(id='entity', ctx=Store())], value=Name(id='Person', ctx=Load()), type_comment=None), Assign(targets=[Name(id='definition_period', ctx=Store())], value=Name(id='ETERNITY', ctx=Load()), type_comment=None), Assign(targets=[Name(id='label', ctx=Store())], value=Constant(value='Date du taux plein', kind=None), type_comment=None)], decorator_list=[]), ClassDef(name='taux_de_liquidation', bases=[Name(id='Variable', ctx=Load())], keywords=[], body=[Assign(targets=[Name(id='value_type', ctx=Store())], value=Name(id='float', ctx=Load()), type_comment=None), Assign(targets=[Name(id='entity', ctx=Store())], value=Name(id='Person', ctx=Load()), type_comment=None), Assign(targets=[Name(id='definition_period', ctx=Store())], value=Name(id='YEAR', ctx=Load()), type_comment=None), Assign(targets=[Name(id='label', ctx=Store())], value=Constant(value='Taux de liquidation de la pension', kind=None), type_comment=None), FunctionDef(name='formula', args=arguments(posonlyargs=[], args=[arg(arg='individu', annotation=None, type_comment=None), arg(arg='period', annotation=None, type_comment=None), arg(arg='parameters', annotation=None, type_comment=None)], vararg=None, kwonlyargs=[], kw_defaults=[], kwarg=None, defaults=[]), body=[Assign(targets=[Name(id='decote', ctx=Store())], value=Call(func=Name(id='individu', ctx=Load()), args=[Constant(value='decote', kind=None), Name(id='period', ctx=Load())], keywords=[]), type_comment=None), Assign(targets=[Name(id='surcote', ctx=Store())], value=Call(func=Name(id='individu', ctx=Load()), args=[Constant(value='surcote', kind=None), Name(id='period', ctx=Load())], keywords=[]), type_comment=None), Assign(targets=[Name(id='taux_plein', ctx=Store())], value=Attribute(value=Attribute(value=Call(func=Name(id='parameters', ctx=Load()), args=[Name(id='period', ctx=Load())], keywords=[]), attr='plein', ctx=Load()), attr='taux', ctx=Load()), type_comment=None)], decorator_list=[], returns=None, type_comment=None), Return(value=BinOp(left=Name(id='taux_plein', ctx=Load()), op=Mult(), right=BinOp(left=BinOp(left=Constant(value=1, kind=None), op=Sub(), right=Name(id='decote', ctx=Load())), op=Add(), right=Name(id='surcote', ctx=Load()))))], decorator_list=[]), ClassDef(name='cotisation_retraite', bases=[Name(id='Variable', ctx=Load())], keywords=[], body=[Assign(targets=[Name(id='value_type', ctx=Store())], value=Name(id='float', ctx=Load()), type_comment=None), Assign(targets=[Name(id='entity', ctx=Store())], value=Name(id='Person', ctx=Load()), type_comment=None), Assign(targets=[Name(id='definition_period', ctx=Store())], value=Name(id='MONTH', ctx=Load()), type_comment=None), Assign(targets=[Name(id='label', ctx=Store())], value=Constant(value='cotisation retraite', kind=None), type_comment=None), FunctionDef(name='formula', args=arguments(posonlyargs=[], args=[arg(arg='individu', annotation=None, type_comment=None), arg(arg='period', annotation=None, type_comment=None), arg(arg='parameters', annotation=None, type_comment=None)], vararg=None, kwonlyargs=[], kw_defaults=[], kwarg=None, defaults=[]), body=[Assign(targets=[Name(id='salaire_brut', ctx=Store())], value=Call(func=Name(id='individu', ctx=Load()), args=[Constant(value='salaire_brut', kind=None), Name(id='period', ctx=Load())], keywords=[]), type_comment=None), Assign(targets=[Name(id='taux', ctx=Store())], value=Attribute(value=Attribute(value=Call(func=Name(id='parameters', ctx=Load()), args=[Name(id='period', ctx=Load())], keywords=[]), attr='cotisation', ctx=Load()), attr='taux', ctx=Load()), type_comment=None), Return(value=BinOp(left=Name(id='salaire_brut', ctx=Load()), op=Mult(), right=Name(id='taux', ctx=Load())))], decorator_list=[], returns=None, type_comment=None)], decorator_list=[])], decorator_list=[]), ClassDef(name='RegimeDeBase', bases=[Name(id='Regime', ctx=Load())], keywords=[], body=[Assign(targets=[Name(id='name', ctx=Store())], value=Constant(value='Régime de base', kind=None), type_comment=None), Assign(targets=[Name(id='prefix', ctx=Store())], value=Constant(value='regime_de_base', kind=None), type_comment=None), Assign(targets=[Name(id='parameters', ctx=Store())], value=Constant(value='parameters/regime_de_base', kind=None), type_comment=None), ClassDef(name='salaire_de_reference', bases=[Name(id='Variable', ctx=Load())], keywords=[], body=[Assign(targets=[Name(id='value_type', ctx=Store())], value=Name(id='float', ctx=Load()), type_comment=None), Assign(targets=[Name(id='entity', ctx=Store())], value=Name(id='Person', ctx=Load()), type_comment=None), Assign(targets=[Name(id='definition_period', ctx=Store())], value=Name(id='ETERNITY', ctx=Load()), type_comment=None), Assign(targets=[Name(id='label', ctx=Store())], value=Constant(value='Salaire de référence', kind=None), type_comment=None)], decorator_list=[]), ClassDef(name='trimestres', bases=[Name(id='Variable', ctx=Load())], keywords=[], body=[Assign(targets=[Name(id='value_type', ctx=Store())], value=Name(id='int', ctx=Load()), type_comment=None), Assign(targets=[Name(id='entity', ctx=Store())], value=Name(id='Person', ctx=Load()), type_comment=None), Assign(targets=[Name(id='definition_period', ctx=Store())], value=Name(id='YEAR', ctx=Load()), type_comment=None), Assign(targets=[Name(id='label', ctx=Store())], value=Constant(value='Trimestres', kind=None), type_comment=None)], decorator_list=[]), ClassDef(name='majoration_pension', bases=[Name(id='Variable', ctx=Load())], keywords=[], body=[Assign(targets=[Name(id='value_type', ctx=Store())], value=Name(id='int', ctx=Load()), type_comment=None), Assign(targets=[Name(id='entity', ctx=Store())], value=Name(id='Person', ctx=Load()), type_comment=None), Assign(targets=[Name(id='definition_period', ctx=Store())], value=Name(id='MONTH', ctx=Load()), type_comment=None), Assign(targets=[Name(id='label', ctx=Store())], value=Constant(value='Majoration de pension', kind=None), type_comment=None)], decorator_list=[]), ClassDef(name='decote', bases=[Name(id='Variable', ctx=Load())], keywords=[], body=[Assign(targets=[Name(id='value_type', ctx=Store())], value=Name(id='float', ctx=Load()), type_comment=None), Assign(targets=[Name(id='entity', ctx=Store())], value=Name(id='Person', ctx=Load()), type_comment=None), Assign(targets=[Name(id='definition_period', ctx=Store())], value=Name(id='YEAR', ctx=Load()), type_comment=None), Assign(targets=[Name(id='label', ctx=Store())], value=Constant(value='Décote', kind=None), type_comment=None), FunctionDef(name='formula', args=arguments(posonlyargs=[], args=[arg(arg='individu', annotation=None, type_comment=None), arg(arg='period', annotation=None, type_comment=None), arg(arg='parameters', annotation=None, type_comment=None)], vararg=None, kwonlyargs=[], kw_defaults=[], kwarg=None, defaults=[]), body=[Assign(targets=[Name(id='taux', ctx=Store())], value=Attribute(value=Attribute(value=Call(func=Name(id='parameters', ctx=Load()), args=[Name(id='period', ctx=Load())], keywords=[]), attr='decote', ctx=Load()), attr='taux', ctx=Load()), type_comment=None), Assign(targets=[Name(id='trimestres_debut', ctx=Store())], value=Attribute(value=Attribute(value=Call(func=Name(id='parameters', ctx=Load()), args=[Name(id='period', ctx=Load())], keywords=[]), attr='decote', ctx=Load()), attr='trimestres_debut', ctx=Load()), type_comment=None), Assign(targets=[Name(id='trimestres', ctx=Store())], value=Call(func=Name(id='individu', ctx=Load()), args=[Constant(value='trimestres', kind=None), Name(id='period', ctx=Load())], keywords=[]), type_comment=None), Return(value=BinOp(left=Name(id='decote', ctx=Load()), op=Mult(), right=Call(func=Name(id='max_', ctx=Load()), args=[BinOp(left=Name(id='trimestres', ctx=Load()), op=Sub(), right=Name(id='trimestres', ctx=Load())), Constant(value=0, kind=None)], keywords=[])))], decorator_list=[], returns=None, type_comment=None)], decorator_list=[]), ClassDef(name='pension_brute', bases=[Name(id='Variable', ctx=Load())], keywords=[], body=[Assign(targets=[Name(id='value_type', ctx=Store())], value=Name(id='float', ctx=Load()), type_comment=None), Assign(targets=[Name(id='entity', ctx=Store())], value=Name(id='Person', ctx=Load()), type_comment=None), Assign(targets=[Name(id='definition_period', ctx=Store())], value=Name(id='YEAR', ctx=Load()), type_comment=None), Assign(targets=[Name(id='label', ctx=Store())], value=Constant(value='Décote', kind=None), type_comment=None), FunctionDef(name='formula', args=arguments(posonlyargs=[], args=[arg(arg='individu', annotation=None, type_comment=None), arg(arg='period', annotation=None, type_comment=None), arg(arg='parameters', annotation=None, type_comment=None)], vararg=None, kwonlyargs=[], kw_defaults=[], kwarg=None, defaults=[]), body=[Assign(targets=[Name(id='coefficent_de_proratisation', ctx=Store())], value=Call(func=Name(id='individu', ctx=Load()), args=[Constant(value='coefficent_de_proratisation', kind=None), Name(id='period', ctx=Load())], keywords=[]), type_comment=None), Assign(targets=[Name(id='salaire_de_reference', ctx=Store())], value=Call(func=Name(id='individu', ctx=Load()), args=[Constant(value='salaire_de_reference', kind=None), Name(id='period', ctx=Load())], keywords=[]), type_comment=None), Assign(targets=[Name(id='taux_de_liquidation', ctx=Store())], value=Call(func=Name(id='individu', ctx=Load()), args=[Constant(value='taux_de_liquidation', kind=None), Name(id='period', ctx=Load())], keywords=[]), type_comment=None), Return(value=BinOp(left=BinOp(left=Name(id='coefficent_de_proratisation', ctx=Load()), op=Mult(), right=Name(id='salaire_de_reference', ctx=Load())), op=Mult(), right=Name(id='taux_de_liquidation', ctx=Load())))], decorator_list=[], returns=None, type_comment=None)], decorator_list=[]), FunctionDef(name='pension', args=arguments(posonlyargs=[], args=[arg(arg='individu', annotation=None, type_comment=None), arg(arg='period', annotation=None, type_comment=None)], vararg=None, kwonlyargs=[], kw_defaults=[], kwarg=None, defaults=[]), body=[Return(value=BinOp(left=Call(func=Name(id='individu', ctx=Load()), args=[Constant(value='pension_brute', kind=None), Name(id='period', ctx=Load())], keywords=[]), op=Add(), right=Call(func=Name(id='individu', ctx=Load()), args=[Constant(value='majoration_pension', kind=None), Name(id='period', ctx=Load())], keywords=[])))], decorator_list=[], returns=None, type_comment=None)], decorator_list=[])], type_ignores=[])\n"
     ]
    }
   ],
   "source": [
    "print(ast.dump(tree))"
   ]
  },
  {
   "cell_type": "markdown",
   "metadata": {},
   "source": [
    "###  Test iterating and printing (dump) all tree.body elements "
   ]
  },
  {
   "cell_type": "code",
   "execution_count": 52,
   "metadata": {},
   "outputs": [
    {
     "name": "stdout",
     "output_type": "stream",
     "text": [
      "\n",
      " 0\n",
      "lineno= from datetime import date\n",
      "node= <_ast.ImportFrom object at 0x7fe00808f730>\n",
      "node type= <class '_ast.ImportFrom'>\n",
      "\n",
      "\n",
      "\n",
      " 1\n",
      "lineno= from openfisca_core.model_api import max_\n",
      "node= <_ast.ImportFrom object at 0x7fe00808f5e0>\n",
      "node type= <class '_ast.ImportFrom'>\n",
      "\n",
      "\n",
      "\n",
      " 2\n",
      "lineno= from openfisca_core.periods import MONTH, ETERNITY\n",
      "node= <_ast.ImportFrom object at 0x7fe00808f700>\n",
      "node type= <class '_ast.ImportFrom'>\n",
      "\n",
      "\n",
      "\n",
      " 3\n",
      "lineno= from openfisca_core.variables import Variable\n",
      "node= <_ast.ImportFrom object at 0x7fe00808ffd0>\n",
      "node type= <class '_ast.ImportFrom'>\n",
      "\n",
      "\n",
      "\n",
      " 4\n",
      "lineno= from openfisca_france_pension.entities import Household, Person\n",
      "node= <_ast.ImportFrom object at 0x7fe00808f460>\n",
      "node type= <class '_ast.ImportFrom'>\n",
      "\n",
      "\n",
      "\n",
      " 5\n",
      "lineno= class Regime(object):\n",
      "node= <_ast.ClassDef object at 0x7fe00808f3a0>\n",
      "node type= <class '_ast.ClassDef'>\n",
      "node dump= ClassDef(name='Regime', bases=[Name(id='object', ctx=Load())], keywords=[], body=[Assign(targets=[Name(id='name', ctx=Store())], value=Constant(value=None, kind=None), type_comment=None), Assign(targets=[Name(id='prefix', ctx=Store())], value=Constant(value=None, kind=None), type_comment=None), Assign(targets=[Name(id='parameters', ctx=Store())], value=Constant(value=None, kind=None), type_comment=None), ClassDef(name='salaire_brut', bases=[Name(id='Variable', ctx=Load())], keywords=[], body=[Assign(targets=[Name(id='value_type', ctx=Store())], value=Name(id='float', ctx=Load()), type_comment=None), Assign(targets=[Name(id='entity', ctx=Store())], value=Name(id='Person', ctx=Load()), type_comment=None), Assign(targets=[Name(id='definition_period', ctx=Store())], value=Name(id='MONTH', ctx=Load()), type_comment=None), Assign(targets=[Name(id='label', ctx=Store())], value=Constant(value='Salaire brut', kind=None), type_comment=None)], decorator_list=[]), ClassDef(name='surcote_debut_date', bases=[Name(id='Variable', ctx=Load())], keywords=[], body=[Assign(targets=[Name(id='value_type', ctx=Store())], value=Name(id='date', ctx=Load()), type_comment=None), Assign(targets=[Name(id='entity', ctx=Store())], value=Name(id='Person', ctx=Load()), type_comment=None), Assign(targets=[Name(id='definition_period', ctx=Store())], value=Name(id='ETERNITY', ctx=Load()), type_comment=None), Assign(targets=[Name(id='label', ctx=Store())], value=Constant(value='Date du début de la surcote', kind=None), type_comment=None)], decorator_list=[]), ClassDef(name='decote_annulation_date', bases=[Name(id='Variable', ctx=Load())], keywords=[], body=[Assign(targets=[Name(id='value_type', ctx=Store())], value=Name(id='date', ctx=Load()), type_comment=None), Assign(targets=[Name(id='entity', ctx=Store())], value=Name(id='Person', ctx=Load()), type_comment=None), Assign(targets=[Name(id='definition_period', ctx=Store())], value=Name(id='ETERNITY', ctx=Load()), type_comment=None), Assign(targets=[Name(id='label', ctx=Store())], value=Constant(value=\"Date d'annulation de la décote'\", kind=None), type_comment=None)], decorator_list=[]), ClassDef(name='taux_plein_date', bases=[Name(id='Variable', ctx=Load())], keywords=[], body=[Assign(targets=[Name(id='value_type', ctx=Store())], value=Name(id='date', ctx=Load()), type_comment=None), Assign(targets=[Name(id='entity', ctx=Store())], value=Name(id='Person', ctx=Load()), type_comment=None), Assign(targets=[Name(id='definition_period', ctx=Store())], value=Name(id='ETERNITY', ctx=Load()), type_comment=None), Assign(targets=[Name(id='label', ctx=Store())], value=Constant(value='Date du taux plein', kind=None), type_comment=None)], decorator_list=[]), ClassDef(name='taux_de_liquidation', bases=[Name(id='Variable', ctx=Load())], keywords=[], body=[Assign(targets=[Name(id='value_type', ctx=Store())], value=Name(id='float', ctx=Load()), type_comment=None), Assign(targets=[Name(id='entity', ctx=Store())], value=Name(id='Person', ctx=Load()), type_comment=None), Assign(targets=[Name(id='definition_period', ctx=Store())], value=Name(id='YEAR', ctx=Load()), type_comment=None), Assign(targets=[Name(id='label', ctx=Store())], value=Constant(value='Taux de liquidation de la pension', kind=None), type_comment=None), FunctionDef(name='formula', args=arguments(posonlyargs=[], args=[arg(arg='individu', annotation=None, type_comment=None), arg(arg='period', annotation=None, type_comment=None), arg(arg='parameters', annotation=None, type_comment=None)], vararg=None, kwonlyargs=[], kw_defaults=[], kwarg=None, defaults=[]), body=[Assign(targets=[Name(id='decote', ctx=Store())], value=Call(func=Name(id='individu', ctx=Load()), args=[Constant(value='decote', kind=None), Name(id='period', ctx=Load())], keywords=[]), type_comment=None), Assign(targets=[Name(id='surcote', ctx=Store())], value=Call(func=Name(id='individu', ctx=Load()), args=[Constant(value='surcote', kind=None), Name(id='period', ctx=Load())], keywords=[]), type_comment=None), Assign(targets=[Name(id='taux_plein', ctx=Store())], value=Attribute(value=Attribute(value=Call(func=Name(id='parameters', ctx=Load()), args=[Name(id='period', ctx=Load())], keywords=[]), attr='plein', ctx=Load()), attr='taux', ctx=Load()), type_comment=None)], decorator_list=[], returns=None, type_comment=None), Return(value=BinOp(left=Name(id='taux_plein', ctx=Load()), op=Mult(), right=BinOp(left=BinOp(left=Constant(value=1, kind=None), op=Sub(), right=Name(id='decote', ctx=Load())), op=Add(), right=Name(id='surcote', ctx=Load()))))], decorator_list=[]), ClassDef(name='cotisation_retraite', bases=[Name(id='Variable', ctx=Load())], keywords=[], body=[Assign(targets=[Name(id='value_type', ctx=Store())], value=Name(id='float', ctx=Load()), type_comment=None), Assign(targets=[Name(id='entity', ctx=Store())], value=Name(id='Person', ctx=Load()), type_comment=None), Assign(targets=[Name(id='definition_period', ctx=Store())], value=Name(id='MONTH', ctx=Load()), type_comment=None), Assign(targets=[Name(id='label', ctx=Store())], value=Constant(value='cotisation retraite', kind=None), type_comment=None), FunctionDef(name='formula', args=arguments(posonlyargs=[], args=[arg(arg='individu', annotation=None, type_comment=None), arg(arg='period', annotation=None, type_comment=None), arg(arg='parameters', annotation=None, type_comment=None)], vararg=None, kwonlyargs=[], kw_defaults=[], kwarg=None, defaults=[]), body=[Assign(targets=[Name(id='salaire_brut', ctx=Store())], value=Call(func=Name(id='individu', ctx=Load()), args=[Constant(value='salaire_brut', kind=None), Name(id='period', ctx=Load())], keywords=[]), type_comment=None), Assign(targets=[Name(id='taux', ctx=Store())], value=Attribute(value=Attribute(value=Call(func=Name(id='parameters', ctx=Load()), args=[Name(id='period', ctx=Load())], keywords=[]), attr='cotisation', ctx=Load()), attr='taux', ctx=Load()), type_comment=None), Return(value=BinOp(left=Name(id='salaire_brut', ctx=Load()), op=Mult(), right=Name(id='taux', ctx=Load())))], decorator_list=[], returns=None, type_comment=None)], decorator_list=[])], decorator_list=[])\n",
      "\n",
      "\n",
      "\n",
      " 6\n",
      "lineno= class RegimeDeBase(Regime):\n",
      "node= <_ast.ClassDef object at 0x7fe00807b670>\n",
      "node type= <class '_ast.ClassDef'>\n",
      "node dump= ClassDef(name='RegimeDeBase', bases=[Name(id='Regime', ctx=Load())], keywords=[], body=[Assign(targets=[Name(id='name', ctx=Store())], value=Constant(value='Régime de base', kind=None), type_comment=None), Assign(targets=[Name(id='prefix', ctx=Store())], value=Constant(value='regime_de_base', kind=None), type_comment=None), Assign(targets=[Name(id='parameters', ctx=Store())], value=Constant(value='parameters/regime_de_base', kind=None), type_comment=None), ClassDef(name='salaire_de_reference', bases=[Name(id='Variable', ctx=Load())], keywords=[], body=[Assign(targets=[Name(id='value_type', ctx=Store())], value=Name(id='float', ctx=Load()), type_comment=None), Assign(targets=[Name(id='entity', ctx=Store())], value=Name(id='Person', ctx=Load()), type_comment=None), Assign(targets=[Name(id='definition_period', ctx=Store())], value=Name(id='ETERNITY', ctx=Load()), type_comment=None), Assign(targets=[Name(id='label', ctx=Store())], value=Constant(value='Salaire de référence', kind=None), type_comment=None)], decorator_list=[]), ClassDef(name='trimestres', bases=[Name(id='Variable', ctx=Load())], keywords=[], body=[Assign(targets=[Name(id='value_type', ctx=Store())], value=Name(id='int', ctx=Load()), type_comment=None), Assign(targets=[Name(id='entity', ctx=Store())], value=Name(id='Person', ctx=Load()), type_comment=None), Assign(targets=[Name(id='definition_period', ctx=Store())], value=Name(id='YEAR', ctx=Load()), type_comment=None), Assign(targets=[Name(id='label', ctx=Store())], value=Constant(value='Trimestres', kind=None), type_comment=None)], decorator_list=[]), ClassDef(name='majoration_pension', bases=[Name(id='Variable', ctx=Load())], keywords=[], body=[Assign(targets=[Name(id='value_type', ctx=Store())], value=Name(id='int', ctx=Load()), type_comment=None), Assign(targets=[Name(id='entity', ctx=Store())], value=Name(id='Person', ctx=Load()), type_comment=None), Assign(targets=[Name(id='definition_period', ctx=Store())], value=Name(id='MONTH', ctx=Load()), type_comment=None), Assign(targets=[Name(id='label', ctx=Store())], value=Constant(value='Majoration de pension', kind=None), type_comment=None)], decorator_list=[]), ClassDef(name='decote', bases=[Name(id='Variable', ctx=Load())], keywords=[], body=[Assign(targets=[Name(id='value_type', ctx=Store())], value=Name(id='float', ctx=Load()), type_comment=None), Assign(targets=[Name(id='entity', ctx=Store())], value=Name(id='Person', ctx=Load()), type_comment=None), Assign(targets=[Name(id='definition_period', ctx=Store())], value=Name(id='YEAR', ctx=Load()), type_comment=None), Assign(targets=[Name(id='label', ctx=Store())], value=Constant(value='Décote', kind=None), type_comment=None), FunctionDef(name='formula', args=arguments(posonlyargs=[], args=[arg(arg='individu', annotation=None, type_comment=None), arg(arg='period', annotation=None, type_comment=None), arg(arg='parameters', annotation=None, type_comment=None)], vararg=None, kwonlyargs=[], kw_defaults=[], kwarg=None, defaults=[]), body=[Assign(targets=[Name(id='taux', ctx=Store())], value=Attribute(value=Attribute(value=Call(func=Name(id='parameters', ctx=Load()), args=[Name(id='period', ctx=Load())], keywords=[]), attr='decote', ctx=Load()), attr='taux', ctx=Load()), type_comment=None), Assign(targets=[Name(id='trimestres_debut', ctx=Store())], value=Attribute(value=Attribute(value=Call(func=Name(id='parameters', ctx=Load()), args=[Name(id='period', ctx=Load())], keywords=[]), attr='decote', ctx=Load()), attr='trimestres_debut', ctx=Load()), type_comment=None), Assign(targets=[Name(id='trimestres', ctx=Store())], value=Call(func=Name(id='individu', ctx=Load()), args=[Constant(value='trimestres', kind=None), Name(id='period', ctx=Load())], keywords=[]), type_comment=None), Return(value=BinOp(left=Name(id='decote', ctx=Load()), op=Mult(), right=Call(func=Name(id='max_', ctx=Load()), args=[BinOp(left=Name(id='trimestres', ctx=Load()), op=Sub(), right=Name(id='trimestres', ctx=Load())), Constant(value=0, kind=None)], keywords=[])))], decorator_list=[], returns=None, type_comment=None)], decorator_list=[]), ClassDef(name='pension_brute', bases=[Name(id='Variable', ctx=Load())], keywords=[], body=[Assign(targets=[Name(id='value_type', ctx=Store())], value=Name(id='float', ctx=Load()), type_comment=None), Assign(targets=[Name(id='entity', ctx=Store())], value=Name(id='Person', ctx=Load()), type_comment=None), Assign(targets=[Name(id='definition_period', ctx=Store())], value=Name(id='YEAR', ctx=Load()), type_comment=None), Assign(targets=[Name(id='label', ctx=Store())], value=Constant(value='Décote', kind=None), type_comment=None), FunctionDef(name='formula', args=arguments(posonlyargs=[], args=[arg(arg='individu', annotation=None, type_comment=None), arg(arg='period', annotation=None, type_comment=None), arg(arg='parameters', annotation=None, type_comment=None)], vararg=None, kwonlyargs=[], kw_defaults=[], kwarg=None, defaults=[]), body=[Assign(targets=[Name(id='coefficent_de_proratisation', ctx=Store())], value=Call(func=Name(id='individu', ctx=Load()), args=[Constant(value='coefficent_de_proratisation', kind=None), Name(id='period', ctx=Load())], keywords=[]), type_comment=None), Assign(targets=[Name(id='salaire_de_reference', ctx=Store())], value=Call(func=Name(id='individu', ctx=Load()), args=[Constant(value='salaire_de_reference', kind=None), Name(id='period', ctx=Load())], keywords=[]), type_comment=None), Assign(targets=[Name(id='taux_de_liquidation', ctx=Store())], value=Call(func=Name(id='individu', ctx=Load()), args=[Constant(value='taux_de_liquidation', kind=None), Name(id='period', ctx=Load())], keywords=[]), type_comment=None), Return(value=BinOp(left=BinOp(left=Name(id='coefficent_de_proratisation', ctx=Load()), op=Mult(), right=Name(id='salaire_de_reference', ctx=Load())), op=Mult(), right=Name(id='taux_de_liquidation', ctx=Load())))], decorator_list=[], returns=None, type_comment=None)], decorator_list=[]), FunctionDef(name='pension', args=arguments(posonlyargs=[], args=[arg(arg='individu', annotation=None, type_comment=None), arg(arg='period', annotation=None, type_comment=None)], vararg=None, kwonlyargs=[], kw_defaults=[], kwarg=None, defaults=[]), body=[Return(value=BinOp(left=Call(func=Name(id='individu', ctx=Load()), args=[Constant(value='pension_brute', kind=None), Name(id='period', ctx=Load())], keywords=[]), op=Add(), right=Call(func=Name(id='individu', ctx=Load()), args=[Constant(value='majoration_pension', kind=None), Name(id='period', ctx=Load())], keywords=[])))], decorator_list=[], returns=None, type_comment=None)], decorator_list=[])\n",
      "\n",
      "\n"
     ]
    }
   ],
   "source": [
    "for i in range(0, len(tree.body)):\n",
    "    print(\"\\n\", i)    \n",
    "    #print(ast.dump(tree.body[i]))\n",
    "    node = tree.body[i]\n",
    "    # print the line with the number\n",
    "    print(\"lineno=\", lines[node.lineno])\n",
    "    print(\"node=\", node)\n",
    "    print(\"node type=\",type(node))\n",
    "    if type(node)== ast.ClassDef :\n",
    "        print(\"node dump=\", ast.dump(node))\n",
    "        # wrapper = ast.Module(body=[i])\n",
    "        # print(\"wrapper=\",wrapper)\n",
    "        # print(\"wrapper dump=\", ast.dump(wrapper))\n",
    "    print(\"\\n\")"
   ]
  },
  {
   "cell_type": "markdown",
   "metadata": {},
   "source": [
    "### Try to recupere the Regime elements as key-value dictionnary"
   ]
  },
  {
   "cell_type": "code",
   "execution_count": 86,
   "metadata": {},
   "outputs": [],
   "source": [
    "tree = ast.parse(code)"
   ]
  },
  {
   "cell_type": "code",
   "execution_count": 87,
   "metadata": {},
   "outputs": [
    {
     "name": "stdout",
     "output_type": "stream",
     "text": [
      "\n",
      "\n",
      "\n",
      "\n",
      "\n",
      "\n",
      "\n",
      "\n",
      "\n",
      "\n",
      "\n",
      " 5\n",
      "lineno= class Regime(object):\n",
      "new regime added = Regime \n",
      " ClassDef(name='Regime', bases=[Name(id='object', ctx=Load())], keywords=[], body=[Assign(targets=[Name(id='name', ctx=Store())], value=Constant(value=None, kind=None), type_comment=None), Assign(targets=[Name(id='prefix', ctx=Store())], value=Constant(value=None, kind=None), type_comment=None), Assign(targets=[Name(id='parameters', ctx=Store())], value=Constant(value=None, kind=None), type_comment=None), ClassDef(name='salaire_brut', bases=[Name(id='Variable', ctx=Load())], keywords=[], body=[Assign(targets=[Name(id='value_type', ctx=Store())], value=Name(id='float', ctx=Load()), type_comment=None), Assign(targets=[Name(id='entity', ctx=Store())], value=Name(id='Person', ctx=Load()), type_comment=None), Assign(targets=[Name(id='definition_period', ctx=Store())], value=Name(id='MONTH', ctx=Load()), type_comment=None), Assign(targets=[Name(id='label', ctx=Store())], value=Constant(value='Salaire brut', kind=None), type_comment=None)], decorator_list=[]), ClassDef(name='surcote_debut_date', bases=[Name(id='Variable', ctx=Load())], keywords=[], body=[Assign(targets=[Name(id='value_type', ctx=Store())], value=Name(id='date', ctx=Load()), type_comment=None), Assign(targets=[Name(id='entity', ctx=Store())], value=Name(id='Person', ctx=Load()), type_comment=None), Assign(targets=[Name(id='definition_period', ctx=Store())], value=Name(id='ETERNITY', ctx=Load()), type_comment=None), Assign(targets=[Name(id='label', ctx=Store())], value=Constant(value='Date du début de la surcote', kind=None), type_comment=None)], decorator_list=[]), ClassDef(name='decote_annulation_date', bases=[Name(id='Variable', ctx=Load())], keywords=[], body=[Assign(targets=[Name(id='value_type', ctx=Store())], value=Name(id='date', ctx=Load()), type_comment=None), Assign(targets=[Name(id='entity', ctx=Store())], value=Name(id='Person', ctx=Load()), type_comment=None), Assign(targets=[Name(id='definition_period', ctx=Store())], value=Name(id='ETERNITY', ctx=Load()), type_comment=None), Assign(targets=[Name(id='label', ctx=Store())], value=Constant(value=\"Date d'annulation de la décote'\", kind=None), type_comment=None)], decorator_list=[]), ClassDef(name='taux_plein_date', bases=[Name(id='Variable', ctx=Load())], keywords=[], body=[Assign(targets=[Name(id='value_type', ctx=Store())], value=Name(id='date', ctx=Load()), type_comment=None), Assign(targets=[Name(id='entity', ctx=Store())], value=Name(id='Person', ctx=Load()), type_comment=None), Assign(targets=[Name(id='definition_period', ctx=Store())], value=Name(id='ETERNITY', ctx=Load()), type_comment=None), Assign(targets=[Name(id='label', ctx=Store())], value=Constant(value='Date du taux plein', kind=None), type_comment=None)], decorator_list=[]), ClassDef(name='taux_de_liquidation', bases=[Name(id='Variable', ctx=Load())], keywords=[], body=[Assign(targets=[Name(id='value_type', ctx=Store())], value=Name(id='float', ctx=Load()), type_comment=None), Assign(targets=[Name(id='entity', ctx=Store())], value=Name(id='Person', ctx=Load()), type_comment=None), Assign(targets=[Name(id='definition_period', ctx=Store())], value=Name(id='YEAR', ctx=Load()), type_comment=None), Assign(targets=[Name(id='label', ctx=Store())], value=Constant(value='Taux de liquidation de la pension', kind=None), type_comment=None), FunctionDef(name='formula', args=arguments(posonlyargs=[], args=[arg(arg='individu', annotation=None, type_comment=None), arg(arg='period', annotation=None, type_comment=None), arg(arg='parameters', annotation=None, type_comment=None)], vararg=None, kwonlyargs=[], kw_defaults=[], kwarg=None, defaults=[]), body=[Assign(targets=[Name(id='decote', ctx=Store())], value=Call(func=Name(id='individu', ctx=Load()), args=[Constant(value='decote', kind=None), Name(id='period', ctx=Load())], keywords=[]), type_comment=None), Assign(targets=[Name(id='surcote', ctx=Store())], value=Call(func=Name(id='individu', ctx=Load()), args=[Constant(value='surcote', kind=None), Name(id='period', ctx=Load())], keywords=[]), type_comment=None), Assign(targets=[Name(id='taux_plein', ctx=Store())], value=Attribute(value=Attribute(value=Call(func=Name(id='parameters', ctx=Load()), args=[Name(id='period', ctx=Load())], keywords=[]), attr='plein', ctx=Load()), attr='taux', ctx=Load()), type_comment=None)], decorator_list=[], returns=None, type_comment=None), Return(value=BinOp(left=Name(id='taux_plein', ctx=Load()), op=Mult(), right=BinOp(left=BinOp(left=Constant(value=1, kind=None), op=Sub(), right=Name(id='decote', ctx=Load())), op=Add(), right=Name(id='surcote', ctx=Load()))))], decorator_list=[]), ClassDef(name='cotisation_retraite', bases=[Name(id='Variable', ctx=Load())], keywords=[], body=[Assign(targets=[Name(id='value_type', ctx=Store())], value=Name(id='float', ctx=Load()), type_comment=None), Assign(targets=[Name(id='entity', ctx=Store())], value=Name(id='Person', ctx=Load()), type_comment=None), Assign(targets=[Name(id='definition_period', ctx=Store())], value=Name(id='MONTH', ctx=Load()), type_comment=None), Assign(targets=[Name(id='label', ctx=Store())], value=Constant(value='cotisation retraite', kind=None), type_comment=None), FunctionDef(name='formula', args=arguments(posonlyargs=[], args=[arg(arg='individu', annotation=None, type_comment=None), arg(arg='period', annotation=None, type_comment=None), arg(arg='parameters', annotation=None, type_comment=None)], vararg=None, kwonlyargs=[], kw_defaults=[], kwarg=None, defaults=[]), body=[Assign(targets=[Name(id='salaire_brut', ctx=Store())], value=Call(func=Name(id='individu', ctx=Load()), args=[Constant(value='salaire_brut', kind=None), Name(id='period', ctx=Load())], keywords=[]), type_comment=None), Assign(targets=[Name(id='taux', ctx=Store())], value=Attribute(value=Attribute(value=Call(func=Name(id='parameters', ctx=Load()), args=[Name(id='period', ctx=Load())], keywords=[]), attr='cotisation', ctx=Load()), attr='taux', ctx=Load()), type_comment=None), Return(value=BinOp(left=Name(id='salaire_brut', ctx=Load()), op=Mult(), right=Name(id='taux', ctx=Load())))], decorator_list=[], returns=None, type_comment=None)], decorator_list=[])], decorator_list=[])\n",
      "\n",
      "\n",
      "\n",
      " 6\n",
      "lineno= class RegimeDeBase(Regime):\n",
      "new regime added = RegimeDeBase \n",
      " ClassDef(name='RegimeDeBase', bases=[Name(id='Regime', ctx=Load())], keywords=[], body=[Assign(targets=[Name(id='name', ctx=Store())], value=Constant(value='Régime de base', kind=None), type_comment=None), Assign(targets=[Name(id='prefix', ctx=Store())], value=Constant(value='regime_de_base', kind=None), type_comment=None), Assign(targets=[Name(id='parameters', ctx=Store())], value=Constant(value='parameters/regime_de_base', kind=None), type_comment=None), ClassDef(name='salaire_de_reference', bases=[Name(id='Variable', ctx=Load())], keywords=[], body=[Assign(targets=[Name(id='value_type', ctx=Store())], value=Name(id='float', ctx=Load()), type_comment=None), Assign(targets=[Name(id='entity', ctx=Store())], value=Name(id='Person', ctx=Load()), type_comment=None), Assign(targets=[Name(id='definition_period', ctx=Store())], value=Name(id='ETERNITY', ctx=Load()), type_comment=None), Assign(targets=[Name(id='label', ctx=Store())], value=Constant(value='Salaire de référence', kind=None), type_comment=None)], decorator_list=[]), ClassDef(name='trimestres', bases=[Name(id='Variable', ctx=Load())], keywords=[], body=[Assign(targets=[Name(id='value_type', ctx=Store())], value=Name(id='int', ctx=Load()), type_comment=None), Assign(targets=[Name(id='entity', ctx=Store())], value=Name(id='Person', ctx=Load()), type_comment=None), Assign(targets=[Name(id='definition_period', ctx=Store())], value=Name(id='YEAR', ctx=Load()), type_comment=None), Assign(targets=[Name(id='label', ctx=Store())], value=Constant(value='Trimestres', kind=None), type_comment=None)], decorator_list=[]), ClassDef(name='majoration_pension', bases=[Name(id='Variable', ctx=Load())], keywords=[], body=[Assign(targets=[Name(id='value_type', ctx=Store())], value=Name(id='int', ctx=Load()), type_comment=None), Assign(targets=[Name(id='entity', ctx=Store())], value=Name(id='Person', ctx=Load()), type_comment=None), Assign(targets=[Name(id='definition_period', ctx=Store())], value=Name(id='MONTH', ctx=Load()), type_comment=None), Assign(targets=[Name(id='label', ctx=Store())], value=Constant(value='Majoration de pension', kind=None), type_comment=None)], decorator_list=[]), ClassDef(name='decote', bases=[Name(id='Variable', ctx=Load())], keywords=[], body=[Assign(targets=[Name(id='value_type', ctx=Store())], value=Name(id='float', ctx=Load()), type_comment=None), Assign(targets=[Name(id='entity', ctx=Store())], value=Name(id='Person', ctx=Load()), type_comment=None), Assign(targets=[Name(id='definition_period', ctx=Store())], value=Name(id='YEAR', ctx=Load()), type_comment=None), Assign(targets=[Name(id='label', ctx=Store())], value=Constant(value='Décote', kind=None), type_comment=None), FunctionDef(name='formula', args=arguments(posonlyargs=[], args=[arg(arg='individu', annotation=None, type_comment=None), arg(arg='period', annotation=None, type_comment=None), arg(arg='parameters', annotation=None, type_comment=None)], vararg=None, kwonlyargs=[], kw_defaults=[], kwarg=None, defaults=[]), body=[Assign(targets=[Name(id='taux', ctx=Store())], value=Attribute(value=Attribute(value=Call(func=Name(id='parameters', ctx=Load()), args=[Name(id='period', ctx=Load())], keywords=[]), attr='decote', ctx=Load()), attr='taux', ctx=Load()), type_comment=None), Assign(targets=[Name(id='trimestres_debut', ctx=Store())], value=Attribute(value=Attribute(value=Call(func=Name(id='parameters', ctx=Load()), args=[Name(id='period', ctx=Load())], keywords=[]), attr='decote', ctx=Load()), attr='trimestres_debut', ctx=Load()), type_comment=None), Assign(targets=[Name(id='trimestres', ctx=Store())], value=Call(func=Name(id='individu', ctx=Load()), args=[Constant(value='trimestres', kind=None), Name(id='period', ctx=Load())], keywords=[]), type_comment=None), Return(value=BinOp(left=Name(id='decote', ctx=Load()), op=Mult(), right=Call(func=Name(id='max_', ctx=Load()), args=[BinOp(left=Name(id='trimestres', ctx=Load()), op=Sub(), right=Name(id='trimestres', ctx=Load())), Constant(value=0, kind=None)], keywords=[])))], decorator_list=[], returns=None, type_comment=None)], decorator_list=[]), ClassDef(name='pension_brute', bases=[Name(id='Variable', ctx=Load())], keywords=[], body=[Assign(targets=[Name(id='value_type', ctx=Store())], value=Name(id='float', ctx=Load()), type_comment=None), Assign(targets=[Name(id='entity', ctx=Store())], value=Name(id='Person', ctx=Load()), type_comment=None), Assign(targets=[Name(id='definition_period', ctx=Store())], value=Name(id='YEAR', ctx=Load()), type_comment=None), Assign(targets=[Name(id='label', ctx=Store())], value=Constant(value='Décote', kind=None), type_comment=None), FunctionDef(name='formula', args=arguments(posonlyargs=[], args=[arg(arg='individu', annotation=None, type_comment=None), arg(arg='period', annotation=None, type_comment=None), arg(arg='parameters', annotation=None, type_comment=None)], vararg=None, kwonlyargs=[], kw_defaults=[], kwarg=None, defaults=[]), body=[Assign(targets=[Name(id='coefficent_de_proratisation', ctx=Store())], value=Call(func=Name(id='individu', ctx=Load()), args=[Constant(value='coefficent_de_proratisation', kind=None), Name(id='period', ctx=Load())], keywords=[]), type_comment=None), Assign(targets=[Name(id='salaire_de_reference', ctx=Store())], value=Call(func=Name(id='individu', ctx=Load()), args=[Constant(value='salaire_de_reference', kind=None), Name(id='period', ctx=Load())], keywords=[]), type_comment=None), Assign(targets=[Name(id='taux_de_liquidation', ctx=Store())], value=Call(func=Name(id='individu', ctx=Load()), args=[Constant(value='taux_de_liquidation', kind=None), Name(id='period', ctx=Load())], keywords=[]), type_comment=None), Return(value=BinOp(left=BinOp(left=Name(id='coefficent_de_proratisation', ctx=Load()), op=Mult(), right=Name(id='salaire_de_reference', ctx=Load())), op=Mult(), right=Name(id='taux_de_liquidation', ctx=Load())))], decorator_list=[], returns=None, type_comment=None)], decorator_list=[]), FunctionDef(name='pension', args=arguments(posonlyargs=[], args=[arg(arg='individu', annotation=None, type_comment=None), arg(arg='period', annotation=None, type_comment=None)], vararg=None, kwonlyargs=[], kw_defaults=[], kwarg=None, defaults=[]), body=[Return(value=BinOp(left=Call(func=Name(id='individu', ctx=Load()), args=[Constant(value='pension_brute', kind=None), Name(id='period', ctx=Load())], keywords=[]), op=Add(), right=Call(func=Name(id='individu', ctx=Load()), args=[Constant(value='majoration_pension', kind=None), Name(id='period', ctx=Load())], keywords=[])))], decorator_list=[], returns=None, type_comment=None)], decorator_list=[])\n",
      "\n",
      "\n"
     ]
    }
   ],
   "source": [
    "regimes={}\n",
    "variables={}\n",
    "for i in range(0, len(tree.body)):\n",
    "    node = tree.body[i]\n",
    "    if type(node) == ast.ClassDef and \"Regime\" in node.name :\n",
    "        # print the line with the number\n",
    "        print(\"\\n\", i)    \n",
    "        print(\"lineno=\", lines[node.lineno])\n",
    "        regimes[node.name] = node\n",
    "        print(\"new regime added =\", node.name, \"\\n\", ast.dump(node))\n",
    "        for j in range (0, len(node.body)):\n",
    "            el = node.body[j]\n",
    "            if type(el)== ast.ClassDef:\n",
    "                variables[el.name]= el\n",
    "    \n",
    "    print(\"\\n\")"
   ]
  },
  {
   "cell_type": "markdown",
   "metadata": {},
   "source": [
    "**Print the Regimes classes stocked as ast.nodes in a dictionnary by name of teh classe**"
   ]
  },
  {
   "cell_type": "code",
   "execution_count": 88,
   "metadata": {},
   "outputs": [
    {
     "name": "stdout",
     "output_type": "stream",
     "text": [
      "dict_keys(['Regime', 'RegimeDeBase'])\n"
     ]
    }
   ],
   "source": [
    "print(regimes.keys())"
   ]
  },
  {
   "cell_type": "markdown",
   "metadata": {},
   "source": [
    "**Print the varaible classes stocked as ast.nodes in a dictionary by name**"
   ]
  },
  {
   "cell_type": "code",
   "execution_count": 89,
   "metadata": {},
   "outputs": [
    {
     "name": "stdout",
     "output_type": "stream",
     "text": [
      "dict_keys(['salaire_brut', 'surcote_debut_date', 'decote_annulation_date', 'taux_plein_date', 'taux_de_liquidation', 'cotisation_retraite', 'salaire_de_reference', 'trimestres', 'majoration_pension', 'decote', 'pension_brute'])\n"
     ]
    }
   ],
   "source": [
    "print(variables.keys())"
   ]
  },
  {
   "cell_type": "markdown",
   "metadata": {},
   "source": [
    "### Try to rename the variable class names by adding the superclass name"
   ]
  },
  {
   "cell_type": "code",
   "execution_count": 36,
   "metadata": {},
   "outputs": [
    {
     "name": "stdout",
     "output_type": "stream",
     "text": [
      "Collecting inflection\n",
      "  Using cached inflection-0.5.1-py2.py3-none-any.whl (9.5 kB)\n",
      "Installing collected packages: inflection\n",
      "Successfully installed inflection-0.5.1\n"
     ]
    }
   ],
   "source": [
    "! pip install inflection"
   ]
  },
  {
   "cell_type": "code",
   "execution_count": 37,
   "metadata": {},
   "outputs": [],
   "source": [
    "import inflection"
   ]
  },
  {
   "cell_type": "code",
   "execution_count": 90,
   "metadata": {},
   "outputs": [],
   "source": [
    "tree = ast.parse(code)"
   ]
  },
  {
   "cell_type": "code",
   "execution_count": 91,
   "metadata": {},
   "outputs": [
    {
     "name": "stdout",
     "output_type": "stream",
     "text": [
      "\n",
      "\n",
      "\n",
      "\n",
      "\n",
      "\n",
      "\n",
      "\n",
      "\n",
      "\n",
      "\n",
      " 5\n",
      "lineno= class Regime(object):\n",
      "new regime added = Regime \n",
      " ClassDef(name='Regime', bases=[Name(id='object', ctx=Load())], keywords=[], body=[Assign(targets=[Name(id='name', ctx=Store())], value=Constant(value=None, kind=None), type_comment=None), Assign(targets=[Name(id='prefix', ctx=Store())], value=Constant(value=None, kind=None), type_comment=None), Assign(targets=[Name(id='parameters', ctx=Store())], value=Constant(value=None, kind=None), type_comment=None), ClassDef(name='salaire_brut', bases=[Name(id='Variable', ctx=Load())], keywords=[], body=[Assign(targets=[Name(id='value_type', ctx=Store())], value=Name(id='float', ctx=Load()), type_comment=None), Assign(targets=[Name(id='entity', ctx=Store())], value=Name(id='Person', ctx=Load()), type_comment=None), Assign(targets=[Name(id='definition_period', ctx=Store())], value=Name(id='MONTH', ctx=Load()), type_comment=None), Assign(targets=[Name(id='label', ctx=Store())], value=Constant(value='Salaire brut', kind=None), type_comment=None)], decorator_list=[]), ClassDef(name='surcote_debut_date', bases=[Name(id='Variable', ctx=Load())], keywords=[], body=[Assign(targets=[Name(id='value_type', ctx=Store())], value=Name(id='date', ctx=Load()), type_comment=None), Assign(targets=[Name(id='entity', ctx=Store())], value=Name(id='Person', ctx=Load()), type_comment=None), Assign(targets=[Name(id='definition_period', ctx=Store())], value=Name(id='ETERNITY', ctx=Load()), type_comment=None), Assign(targets=[Name(id='label', ctx=Store())], value=Constant(value='Date du début de la surcote', kind=None), type_comment=None)], decorator_list=[]), ClassDef(name='decote_annulation_date', bases=[Name(id='Variable', ctx=Load())], keywords=[], body=[Assign(targets=[Name(id='value_type', ctx=Store())], value=Name(id='date', ctx=Load()), type_comment=None), Assign(targets=[Name(id='entity', ctx=Store())], value=Name(id='Person', ctx=Load()), type_comment=None), Assign(targets=[Name(id='definition_period', ctx=Store())], value=Name(id='ETERNITY', ctx=Load()), type_comment=None), Assign(targets=[Name(id='label', ctx=Store())], value=Constant(value=\"Date d'annulation de la décote'\", kind=None), type_comment=None)], decorator_list=[]), ClassDef(name='taux_plein_date', bases=[Name(id='Variable', ctx=Load())], keywords=[], body=[Assign(targets=[Name(id='value_type', ctx=Store())], value=Name(id='date', ctx=Load()), type_comment=None), Assign(targets=[Name(id='entity', ctx=Store())], value=Name(id='Person', ctx=Load()), type_comment=None), Assign(targets=[Name(id='definition_period', ctx=Store())], value=Name(id='ETERNITY', ctx=Load()), type_comment=None), Assign(targets=[Name(id='label', ctx=Store())], value=Constant(value='Date du taux plein', kind=None), type_comment=None)], decorator_list=[]), ClassDef(name='taux_de_liquidation', bases=[Name(id='Variable', ctx=Load())], keywords=[], body=[Assign(targets=[Name(id='value_type', ctx=Store())], value=Name(id='float', ctx=Load()), type_comment=None), Assign(targets=[Name(id='entity', ctx=Store())], value=Name(id='Person', ctx=Load()), type_comment=None), Assign(targets=[Name(id='definition_period', ctx=Store())], value=Name(id='YEAR', ctx=Load()), type_comment=None), Assign(targets=[Name(id='label', ctx=Store())], value=Constant(value='Taux de liquidation de la pension', kind=None), type_comment=None), FunctionDef(name='formula', args=arguments(posonlyargs=[], args=[arg(arg='individu', annotation=None, type_comment=None), arg(arg='period', annotation=None, type_comment=None), arg(arg='parameters', annotation=None, type_comment=None)], vararg=None, kwonlyargs=[], kw_defaults=[], kwarg=None, defaults=[]), body=[Assign(targets=[Name(id='decote', ctx=Store())], value=Call(func=Name(id='individu', ctx=Load()), args=[Constant(value='decote', kind=None), Name(id='period', ctx=Load())], keywords=[]), type_comment=None), Assign(targets=[Name(id='surcote', ctx=Store())], value=Call(func=Name(id='individu', ctx=Load()), args=[Constant(value='surcote', kind=None), Name(id='period', ctx=Load())], keywords=[]), type_comment=None), Assign(targets=[Name(id='taux_plein', ctx=Store())], value=Attribute(value=Attribute(value=Call(func=Name(id='parameters', ctx=Load()), args=[Name(id='period', ctx=Load())], keywords=[]), attr='plein', ctx=Load()), attr='taux', ctx=Load()), type_comment=None)], decorator_list=[], returns=None, type_comment=None), Return(value=BinOp(left=Name(id='taux_plein', ctx=Load()), op=Mult(), right=BinOp(left=BinOp(left=Constant(value=1, kind=None), op=Sub(), right=Name(id='decote', ctx=Load())), op=Add(), right=Name(id='surcote', ctx=Load()))))], decorator_list=[]), ClassDef(name='cotisation_retraite', bases=[Name(id='Variable', ctx=Load())], keywords=[], body=[Assign(targets=[Name(id='value_type', ctx=Store())], value=Name(id='float', ctx=Load()), type_comment=None), Assign(targets=[Name(id='entity', ctx=Store())], value=Name(id='Person', ctx=Load()), type_comment=None), Assign(targets=[Name(id='definition_period', ctx=Store())], value=Name(id='MONTH', ctx=Load()), type_comment=None), Assign(targets=[Name(id='label', ctx=Store())], value=Constant(value='cotisation retraite', kind=None), type_comment=None), FunctionDef(name='formula', args=arguments(posonlyargs=[], args=[arg(arg='individu', annotation=None, type_comment=None), arg(arg='period', annotation=None, type_comment=None), arg(arg='parameters', annotation=None, type_comment=None)], vararg=None, kwonlyargs=[], kw_defaults=[], kwarg=None, defaults=[]), body=[Assign(targets=[Name(id='salaire_brut', ctx=Store())], value=Call(func=Name(id='individu', ctx=Load()), args=[Constant(value='salaire_brut', kind=None), Name(id='period', ctx=Load())], keywords=[]), type_comment=None), Assign(targets=[Name(id='taux', ctx=Store())], value=Attribute(value=Attribute(value=Call(func=Name(id='parameters', ctx=Load()), args=[Name(id='period', ctx=Load())], keywords=[]), attr='cotisation', ctx=Load()), attr='taux', ctx=Load()), type_comment=None), Return(value=BinOp(left=Name(id='salaire_brut', ctx=Load()), op=Mult(), right=Name(id='taux', ctx=Load())))], decorator_list=[], returns=None, type_comment=None)], decorator_list=[])], decorator_list=[])\n",
      "\n",
      "\n",
      "\n",
      " 6\n",
      "lineno= class RegimeDeBase(Regime):\n",
      "new regime added = RegimeDeBase \n",
      " ClassDef(name='RegimeDeBase', bases=[Name(id='Regime', ctx=Load())], keywords=[], body=[Assign(targets=[Name(id='name', ctx=Store())], value=Constant(value='Régime de base', kind=None), type_comment=None), Assign(targets=[Name(id='prefix', ctx=Store())], value=Constant(value='regime_de_base', kind=None), type_comment=None), Assign(targets=[Name(id='parameters', ctx=Store())], value=Constant(value='parameters/regime_de_base', kind=None), type_comment=None), ClassDef(name='salaire_de_reference', bases=[Name(id='Variable', ctx=Load())], keywords=[], body=[Assign(targets=[Name(id='value_type', ctx=Store())], value=Name(id='float', ctx=Load()), type_comment=None), Assign(targets=[Name(id='entity', ctx=Store())], value=Name(id='Person', ctx=Load()), type_comment=None), Assign(targets=[Name(id='definition_period', ctx=Store())], value=Name(id='ETERNITY', ctx=Load()), type_comment=None), Assign(targets=[Name(id='label', ctx=Store())], value=Constant(value='Salaire de référence', kind=None), type_comment=None)], decorator_list=[]), ClassDef(name='trimestres', bases=[Name(id='Variable', ctx=Load())], keywords=[], body=[Assign(targets=[Name(id='value_type', ctx=Store())], value=Name(id='int', ctx=Load()), type_comment=None), Assign(targets=[Name(id='entity', ctx=Store())], value=Name(id='Person', ctx=Load()), type_comment=None), Assign(targets=[Name(id='definition_period', ctx=Store())], value=Name(id='YEAR', ctx=Load()), type_comment=None), Assign(targets=[Name(id='label', ctx=Store())], value=Constant(value='Trimestres', kind=None), type_comment=None)], decorator_list=[]), ClassDef(name='majoration_pension', bases=[Name(id='Variable', ctx=Load())], keywords=[], body=[Assign(targets=[Name(id='value_type', ctx=Store())], value=Name(id='int', ctx=Load()), type_comment=None), Assign(targets=[Name(id='entity', ctx=Store())], value=Name(id='Person', ctx=Load()), type_comment=None), Assign(targets=[Name(id='definition_period', ctx=Store())], value=Name(id='MONTH', ctx=Load()), type_comment=None), Assign(targets=[Name(id='label', ctx=Store())], value=Constant(value='Majoration de pension', kind=None), type_comment=None)], decorator_list=[]), ClassDef(name='decote', bases=[Name(id='Variable', ctx=Load())], keywords=[], body=[Assign(targets=[Name(id='value_type', ctx=Store())], value=Name(id='float', ctx=Load()), type_comment=None), Assign(targets=[Name(id='entity', ctx=Store())], value=Name(id='Person', ctx=Load()), type_comment=None), Assign(targets=[Name(id='definition_period', ctx=Store())], value=Name(id='YEAR', ctx=Load()), type_comment=None), Assign(targets=[Name(id='label', ctx=Store())], value=Constant(value='Décote', kind=None), type_comment=None), FunctionDef(name='formula', args=arguments(posonlyargs=[], args=[arg(arg='individu', annotation=None, type_comment=None), arg(arg='period', annotation=None, type_comment=None), arg(arg='parameters', annotation=None, type_comment=None)], vararg=None, kwonlyargs=[], kw_defaults=[], kwarg=None, defaults=[]), body=[Assign(targets=[Name(id='taux', ctx=Store())], value=Attribute(value=Attribute(value=Call(func=Name(id='parameters', ctx=Load()), args=[Name(id='period', ctx=Load())], keywords=[]), attr='decote', ctx=Load()), attr='taux', ctx=Load()), type_comment=None), Assign(targets=[Name(id='trimestres_debut', ctx=Store())], value=Attribute(value=Attribute(value=Call(func=Name(id='parameters', ctx=Load()), args=[Name(id='period', ctx=Load())], keywords=[]), attr='decote', ctx=Load()), attr='trimestres_debut', ctx=Load()), type_comment=None), Assign(targets=[Name(id='trimestres', ctx=Store())], value=Call(func=Name(id='individu', ctx=Load()), args=[Constant(value='trimestres', kind=None), Name(id='period', ctx=Load())], keywords=[]), type_comment=None), Return(value=BinOp(left=Name(id='decote', ctx=Load()), op=Mult(), right=Call(func=Name(id='max_', ctx=Load()), args=[BinOp(left=Name(id='trimestres', ctx=Load()), op=Sub(), right=Name(id='trimestres', ctx=Load())), Constant(value=0, kind=None)], keywords=[])))], decorator_list=[], returns=None, type_comment=None)], decorator_list=[]), ClassDef(name='pension_brute', bases=[Name(id='Variable', ctx=Load())], keywords=[], body=[Assign(targets=[Name(id='value_type', ctx=Store())], value=Name(id='float', ctx=Load()), type_comment=None), Assign(targets=[Name(id='entity', ctx=Store())], value=Name(id='Person', ctx=Load()), type_comment=None), Assign(targets=[Name(id='definition_period', ctx=Store())], value=Name(id='YEAR', ctx=Load()), type_comment=None), Assign(targets=[Name(id='label', ctx=Store())], value=Constant(value='Décote', kind=None), type_comment=None), FunctionDef(name='formula', args=arguments(posonlyargs=[], args=[arg(arg='individu', annotation=None, type_comment=None), arg(arg='period', annotation=None, type_comment=None), arg(arg='parameters', annotation=None, type_comment=None)], vararg=None, kwonlyargs=[], kw_defaults=[], kwarg=None, defaults=[]), body=[Assign(targets=[Name(id='coefficent_de_proratisation', ctx=Store())], value=Call(func=Name(id='individu', ctx=Load()), args=[Constant(value='coefficent_de_proratisation', kind=None), Name(id='period', ctx=Load())], keywords=[]), type_comment=None), Assign(targets=[Name(id='salaire_de_reference', ctx=Store())], value=Call(func=Name(id='individu', ctx=Load()), args=[Constant(value='salaire_de_reference', kind=None), Name(id='period', ctx=Load())], keywords=[]), type_comment=None), Assign(targets=[Name(id='taux_de_liquidation', ctx=Store())], value=Call(func=Name(id='individu', ctx=Load()), args=[Constant(value='taux_de_liquidation', kind=None), Name(id='period', ctx=Load())], keywords=[]), type_comment=None), Return(value=BinOp(left=BinOp(left=Name(id='coefficent_de_proratisation', ctx=Load()), op=Mult(), right=Name(id='salaire_de_reference', ctx=Load())), op=Mult(), right=Name(id='taux_de_liquidation', ctx=Load())))], decorator_list=[], returns=None, type_comment=None)], decorator_list=[]), FunctionDef(name='pension', args=arguments(posonlyargs=[], args=[arg(arg='individu', annotation=None, type_comment=None), arg(arg='period', annotation=None, type_comment=None)], vararg=None, kwonlyargs=[], kw_defaults=[], kwarg=None, defaults=[]), body=[Return(value=BinOp(left=Call(func=Name(id='individu', ctx=Load()), args=[Constant(value='pension_brute', kind=None), Name(id='period', ctx=Load())], keywords=[]), op=Add(), right=Call(func=Name(id='individu', ctx=Load()), args=[Constant(value='majoration_pension', kind=None), Name(id='period', ctx=Load())], keywords=[])))], decorator_list=[], returns=None, type_comment=None)], decorator_list=[])\n",
      "\n",
      "\n"
     ]
    }
   ],
   "source": [
    "regimes={}\n",
    "variables={}\n",
    "for i in range(0, len(tree.body)):\n",
    "    node = tree.body[i]\n",
    "    if type(node) == ast.ClassDef and \"Regime\" in node.name :\n",
    "        # print the line with the number\n",
    "        print(\"\\n\", i)    \n",
    "        print(\"lineno=\", lines[node.lineno])\n",
    "        regimes[node.name] = node\n",
    "        print(\"new regime added =\", node.name, \"\\n\", ast.dump(node))\n",
    "        for j in range (0, len(node.body)):\n",
    "            el = node.body[j]\n",
    "            if type(el)== ast.ClassDef:\n",
    "                variables[str(inflection.underscore(node.name) + \"__\" + el.name)]= el\n",
    "    \n",
    "    print(\"\\n\") "
   ]
  },
  {
   "cell_type": "code",
   "execution_count": 92,
   "metadata": {},
   "outputs": [
    {
     "name": "stdout",
     "output_type": "stream",
     "text": [
      "dict_keys(['regime__salaire_brut', 'regime__surcote_debut_date', 'regime__decote_annulation_date', 'regime__taux_plein_date', 'regime__taux_de_liquidation', 'regime__cotisation_retraite', 'regime_de_base__salaire_de_reference', 'regime_de_base__trimestres', 'regime_de_base__majoration_pension', 'regime_de_base__decote', 'regime_de_base__pension_brute'])\n"
     ]
    }
   ],
   "source": [
    "print(variables.keys())"
   ]
  },
  {
   "cell_type": "markdown",
   "metadata": {},
   "source": [
    "### Try to create a new empty ast object (Module) and copy nodes into it's body from the dictionnary"
   ]
  },
  {
   "cell_type": "code",
   "execution_count": 112,
   "metadata": {},
   "outputs": [],
   "source": [
    "input_tree = ast.parse(code)"
   ]
  },
  {
   "cell_type": "code",
   "execution_count": 113,
   "metadata": {},
   "outputs": [],
   "source": [
    "output_tree = ast.Module(body=[], type_ignores=[])"
   ]
  },
  {
   "cell_type": "code",
   "execution_count": 114,
   "metadata": {},
   "outputs": [
    {
     "data": {
      "text/plain": [
       "_ast.Module"
      ]
     },
     "execution_count": 114,
     "metadata": {},
     "output_type": "execute_result"
    }
   ],
   "source": [
    "type(output_tree)"
   ]
  },
  {
   "cell_type": "code",
   "execution_count": 115,
   "metadata": {},
   "outputs": [
    {
     "data": {
      "text/plain": [
       "[]"
      ]
     },
     "execution_count": 115,
     "metadata": {},
     "output_type": "execute_result"
    }
   ],
   "source": [
    "output_tree.body"
   ]
  },
  {
   "cell_type": "code",
   "execution_count": 117,
   "metadata": {},
   "outputs": [],
   "source": [
    "for key, value in variables.items():\n",
    "    value.name = key.replace(\"__\",\"_\")\n",
    "    output_tree.body.append(value)"
   ]
  },
  {
   "cell_type": "code",
   "execution_count": 118,
   "metadata": {
    "scrolled": true
   },
   "outputs": [
    {
     "data": {
      "text/plain": [
       "'Module(body=[ClassDef(name=\\'regime_salaire_brut\\', bases=[Name(id=\\'Variable\\', ctx=Load())], keywords=[], body=[Assign(targets=[Name(id=\\'value_type\\', ctx=Store())], value=Name(id=\\'float\\', ctx=Load()), type_comment=None), Assign(targets=[Name(id=\\'entity\\', ctx=Store())], value=Name(id=\\'Person\\', ctx=Load()), type_comment=None), Assign(targets=[Name(id=\\'definition_period\\', ctx=Store())], value=Name(id=\\'MONTH\\', ctx=Load()), type_comment=None), Assign(targets=[Name(id=\\'label\\', ctx=Store())], value=Constant(value=\\'Salaire brut\\', kind=None), type_comment=None)], decorator_list=[]), ClassDef(name=\\'regime_surcote_debut_date\\', bases=[Name(id=\\'Variable\\', ctx=Load())], keywords=[], body=[Assign(targets=[Name(id=\\'value_type\\', ctx=Store())], value=Name(id=\\'date\\', ctx=Load()), type_comment=None), Assign(targets=[Name(id=\\'entity\\', ctx=Store())], value=Name(id=\\'Person\\', ctx=Load()), type_comment=None), Assign(targets=[Name(id=\\'definition_period\\', ctx=Store())], value=Name(id=\\'ETERNITY\\', ctx=Load()), type_comment=None), Assign(targets=[Name(id=\\'label\\', ctx=Store())], value=Constant(value=\\'Date du début de la surcote\\', kind=None), type_comment=None)], decorator_list=[]), ClassDef(name=\\'regime_decote_annulation_date\\', bases=[Name(id=\\'Variable\\', ctx=Load())], keywords=[], body=[Assign(targets=[Name(id=\\'value_type\\', ctx=Store())], value=Name(id=\\'date\\', ctx=Load()), type_comment=None), Assign(targets=[Name(id=\\'entity\\', ctx=Store())], value=Name(id=\\'Person\\', ctx=Load()), type_comment=None), Assign(targets=[Name(id=\\'definition_period\\', ctx=Store())], value=Name(id=\\'ETERNITY\\', ctx=Load()), type_comment=None), Assign(targets=[Name(id=\\'label\\', ctx=Store())], value=Constant(value=\"Date d\\'annulation de la décote\\'\", kind=None), type_comment=None)], decorator_list=[]), ClassDef(name=\\'regime_taux_plein_date\\', bases=[Name(id=\\'Variable\\', ctx=Load())], keywords=[], body=[Assign(targets=[Name(id=\\'value_type\\', ctx=Store())], value=Name(id=\\'date\\', ctx=Load()), type_comment=None), Assign(targets=[Name(id=\\'entity\\', ctx=Store())], value=Name(id=\\'Person\\', ctx=Load()), type_comment=None), Assign(targets=[Name(id=\\'definition_period\\', ctx=Store())], value=Name(id=\\'ETERNITY\\', ctx=Load()), type_comment=None), Assign(targets=[Name(id=\\'label\\', ctx=Store())], value=Constant(value=\\'Date du taux plein\\', kind=None), type_comment=None)], decorator_list=[]), ClassDef(name=\\'regime_taux_de_liquidation\\', bases=[Name(id=\\'Variable\\', ctx=Load())], keywords=[], body=[Assign(targets=[Name(id=\\'value_type\\', ctx=Store())], value=Name(id=\\'float\\', ctx=Load()), type_comment=None), Assign(targets=[Name(id=\\'entity\\', ctx=Store())], value=Name(id=\\'Person\\', ctx=Load()), type_comment=None), Assign(targets=[Name(id=\\'definition_period\\', ctx=Store())], value=Name(id=\\'YEAR\\', ctx=Load()), type_comment=None), Assign(targets=[Name(id=\\'label\\', ctx=Store())], value=Constant(value=\\'Taux de liquidation de la pension\\', kind=None), type_comment=None), FunctionDef(name=\\'formula\\', args=arguments(posonlyargs=[], args=[arg(arg=\\'individu\\', annotation=None, type_comment=None), arg(arg=\\'period\\', annotation=None, type_comment=None), arg(arg=\\'parameters\\', annotation=None, type_comment=None)], vararg=None, kwonlyargs=[], kw_defaults=[], kwarg=None, defaults=[]), body=[Assign(targets=[Name(id=\\'decote\\', ctx=Store())], value=Call(func=Name(id=\\'individu\\', ctx=Load()), args=[Constant(value=\\'decote\\', kind=None), Name(id=\\'period\\', ctx=Load())], keywords=[]), type_comment=None), Assign(targets=[Name(id=\\'surcote\\', ctx=Store())], value=Call(func=Name(id=\\'individu\\', ctx=Load()), args=[Constant(value=\\'surcote\\', kind=None), Name(id=\\'period\\', ctx=Load())], keywords=[]), type_comment=None), Assign(targets=[Name(id=\\'taux_plein\\', ctx=Store())], value=Attribute(value=Attribute(value=Call(func=Name(id=\\'parameters\\', ctx=Load()), args=[Name(id=\\'period\\', ctx=Load())], keywords=[]), attr=\\'plein\\', ctx=Load()), attr=\\'taux\\', ctx=Load()), type_comment=None)], decorator_list=[], returns=None, type_comment=None), Return(value=BinOp(left=Name(id=\\'taux_plein\\', ctx=Load()), op=Mult(), right=BinOp(left=BinOp(left=Constant(value=1, kind=None), op=Sub(), right=Name(id=\\'decote\\', ctx=Load())), op=Add(), right=Name(id=\\'surcote\\', ctx=Load()))))], decorator_list=[]), ClassDef(name=\\'regime_cotisation_retraite\\', bases=[Name(id=\\'Variable\\', ctx=Load())], keywords=[], body=[Assign(targets=[Name(id=\\'value_type\\', ctx=Store())], value=Name(id=\\'float\\', ctx=Load()), type_comment=None), Assign(targets=[Name(id=\\'entity\\', ctx=Store())], value=Name(id=\\'Person\\', ctx=Load()), type_comment=None), Assign(targets=[Name(id=\\'definition_period\\', ctx=Store())], value=Name(id=\\'MONTH\\', ctx=Load()), type_comment=None), Assign(targets=[Name(id=\\'label\\', ctx=Store())], value=Constant(value=\\'cotisation retraite\\', kind=None), type_comment=None), FunctionDef(name=\\'formula\\', args=arguments(posonlyargs=[], args=[arg(arg=\\'individu\\', annotation=None, type_comment=None), arg(arg=\\'period\\', annotation=None, type_comment=None), arg(arg=\\'parameters\\', annotation=None, type_comment=None)], vararg=None, kwonlyargs=[], kw_defaults=[], kwarg=None, defaults=[]), body=[Assign(targets=[Name(id=\\'salaire_brut\\', ctx=Store())], value=Call(func=Name(id=\\'individu\\', ctx=Load()), args=[Constant(value=\\'salaire_brut\\', kind=None), Name(id=\\'period\\', ctx=Load())], keywords=[]), type_comment=None), Assign(targets=[Name(id=\\'taux\\', ctx=Store())], value=Attribute(value=Attribute(value=Call(func=Name(id=\\'parameters\\', ctx=Load()), args=[Name(id=\\'period\\', ctx=Load())], keywords=[]), attr=\\'cotisation\\', ctx=Load()), attr=\\'taux\\', ctx=Load()), type_comment=None), Return(value=BinOp(left=Name(id=\\'salaire_brut\\', ctx=Load()), op=Mult(), right=Name(id=\\'taux\\', ctx=Load())))], decorator_list=[], returns=None, type_comment=None)], decorator_list=[]), ClassDef(name=\\'regime_de_base_salaire_de_reference\\', bases=[Name(id=\\'Variable\\', ctx=Load())], keywords=[], body=[Assign(targets=[Name(id=\\'value_type\\', ctx=Store())], value=Name(id=\\'float\\', ctx=Load()), type_comment=None), Assign(targets=[Name(id=\\'entity\\', ctx=Store())], value=Name(id=\\'Person\\', ctx=Load()), type_comment=None), Assign(targets=[Name(id=\\'definition_period\\', ctx=Store())], value=Name(id=\\'ETERNITY\\', ctx=Load()), type_comment=None), Assign(targets=[Name(id=\\'label\\', ctx=Store())], value=Constant(value=\\'Salaire de référence\\', kind=None), type_comment=None)], decorator_list=[]), ClassDef(name=\\'regime_de_base_trimestres\\', bases=[Name(id=\\'Variable\\', ctx=Load())], keywords=[], body=[Assign(targets=[Name(id=\\'value_type\\', ctx=Store())], value=Name(id=\\'int\\', ctx=Load()), type_comment=None), Assign(targets=[Name(id=\\'entity\\', ctx=Store())], value=Name(id=\\'Person\\', ctx=Load()), type_comment=None), Assign(targets=[Name(id=\\'definition_period\\', ctx=Store())], value=Name(id=\\'YEAR\\', ctx=Load()), type_comment=None), Assign(targets=[Name(id=\\'label\\', ctx=Store())], value=Constant(value=\\'Trimestres\\', kind=None), type_comment=None)], decorator_list=[]), ClassDef(name=\\'regime_de_base_majoration_pension\\', bases=[Name(id=\\'Variable\\', ctx=Load())], keywords=[], body=[Assign(targets=[Name(id=\\'value_type\\', ctx=Store())], value=Name(id=\\'int\\', ctx=Load()), type_comment=None), Assign(targets=[Name(id=\\'entity\\', ctx=Store())], value=Name(id=\\'Person\\', ctx=Load()), type_comment=None), Assign(targets=[Name(id=\\'definition_period\\', ctx=Store())], value=Name(id=\\'MONTH\\', ctx=Load()), type_comment=None), Assign(targets=[Name(id=\\'label\\', ctx=Store())], value=Constant(value=\\'Majoration de pension\\', kind=None), type_comment=None)], decorator_list=[]), ClassDef(name=\\'regime_de_base_decote\\', bases=[Name(id=\\'Variable\\', ctx=Load())], keywords=[], body=[Assign(targets=[Name(id=\\'value_type\\', ctx=Store())], value=Name(id=\\'float\\', ctx=Load()), type_comment=None), Assign(targets=[Name(id=\\'entity\\', ctx=Store())], value=Name(id=\\'Person\\', ctx=Load()), type_comment=None), Assign(targets=[Name(id=\\'definition_period\\', ctx=Store())], value=Name(id=\\'YEAR\\', ctx=Load()), type_comment=None), Assign(targets=[Name(id=\\'label\\', ctx=Store())], value=Constant(value=\\'Décote\\', kind=None), type_comment=None), FunctionDef(name=\\'formula\\', args=arguments(posonlyargs=[], args=[arg(arg=\\'individu\\', annotation=None, type_comment=None), arg(arg=\\'period\\', annotation=None, type_comment=None), arg(arg=\\'parameters\\', annotation=None, type_comment=None)], vararg=None, kwonlyargs=[], kw_defaults=[], kwarg=None, defaults=[]), body=[Assign(targets=[Name(id=\\'taux\\', ctx=Store())], value=Attribute(value=Attribute(value=Call(func=Name(id=\\'parameters\\', ctx=Load()), args=[Name(id=\\'period\\', ctx=Load())], keywords=[]), attr=\\'decote\\', ctx=Load()), attr=\\'taux\\', ctx=Load()), type_comment=None), Assign(targets=[Name(id=\\'trimestres_debut\\', ctx=Store())], value=Attribute(value=Attribute(value=Call(func=Name(id=\\'parameters\\', ctx=Load()), args=[Name(id=\\'period\\', ctx=Load())], keywords=[]), attr=\\'decote\\', ctx=Load()), attr=\\'trimestres_debut\\', ctx=Load()), type_comment=None), Assign(targets=[Name(id=\\'trimestres\\', ctx=Store())], value=Call(func=Name(id=\\'individu\\', ctx=Load()), args=[Constant(value=\\'trimestres\\', kind=None), Name(id=\\'period\\', ctx=Load())], keywords=[]), type_comment=None), Return(value=BinOp(left=Name(id=\\'decote\\', ctx=Load()), op=Mult(), right=Call(func=Name(id=\\'max_\\', ctx=Load()), args=[BinOp(left=Name(id=\\'trimestres\\', ctx=Load()), op=Sub(), right=Name(id=\\'trimestres\\', ctx=Load())), Constant(value=0, kind=None)], keywords=[])))], decorator_list=[], returns=None, type_comment=None)], decorator_list=[]), ClassDef(name=\\'regime_de_base_pension_brute\\', bases=[Name(id=\\'Variable\\', ctx=Load())], keywords=[], body=[Assign(targets=[Name(id=\\'value_type\\', ctx=Store())], value=Name(id=\\'float\\', ctx=Load()), type_comment=None), Assign(targets=[Name(id=\\'entity\\', ctx=Store())], value=Name(id=\\'Person\\', ctx=Load()), type_comment=None), Assign(targets=[Name(id=\\'definition_period\\', ctx=Store())], value=Name(id=\\'YEAR\\', ctx=Load()), type_comment=None), Assign(targets=[Name(id=\\'label\\', ctx=Store())], value=Constant(value=\\'Décote\\', kind=None), type_comment=None), FunctionDef(name=\\'formula\\', args=arguments(posonlyargs=[], args=[arg(arg=\\'individu\\', annotation=None, type_comment=None), arg(arg=\\'period\\', annotation=None, type_comment=None), arg(arg=\\'parameters\\', annotation=None, type_comment=None)], vararg=None, kwonlyargs=[], kw_defaults=[], kwarg=None, defaults=[]), body=[Assign(targets=[Name(id=\\'coefficent_de_proratisation\\', ctx=Store())], value=Call(func=Name(id=\\'individu\\', ctx=Load()), args=[Constant(value=\\'coefficent_de_proratisation\\', kind=None), Name(id=\\'period\\', ctx=Load())], keywords=[]), type_comment=None), Assign(targets=[Name(id=\\'salaire_de_reference\\', ctx=Store())], value=Call(func=Name(id=\\'individu\\', ctx=Load()), args=[Constant(value=\\'salaire_de_reference\\', kind=None), Name(id=\\'period\\', ctx=Load())], keywords=[]), type_comment=None), Assign(targets=[Name(id=\\'taux_de_liquidation\\', ctx=Store())], value=Call(func=Name(id=\\'individu\\', ctx=Load()), args=[Constant(value=\\'taux_de_liquidation\\', kind=None), Name(id=\\'period\\', ctx=Load())], keywords=[]), type_comment=None), Return(value=BinOp(left=BinOp(left=Name(id=\\'coefficent_de_proratisation\\', ctx=Load()), op=Mult(), right=Name(id=\\'salaire_de_reference\\', ctx=Load())), op=Mult(), right=Name(id=\\'taux_de_liquidation\\', ctx=Load())))], decorator_list=[], returns=None, type_comment=None)], decorator_list=[]), ClassDef(name=\\'regime_salaire_brut\\', bases=[Name(id=\\'Variable\\', ctx=Load())], keywords=[], body=[Assign(targets=[Name(id=\\'value_type\\', ctx=Store())], value=Name(id=\\'float\\', ctx=Load()), type_comment=None), Assign(targets=[Name(id=\\'entity\\', ctx=Store())], value=Name(id=\\'Person\\', ctx=Load()), type_comment=None), Assign(targets=[Name(id=\\'definition_period\\', ctx=Store())], value=Name(id=\\'MONTH\\', ctx=Load()), type_comment=None), Assign(targets=[Name(id=\\'label\\', ctx=Store())], value=Constant(value=\\'Salaire brut\\', kind=None), type_comment=None)], decorator_list=[]), ClassDef(name=\\'regime_surcote_debut_date\\', bases=[Name(id=\\'Variable\\', ctx=Load())], keywords=[], body=[Assign(targets=[Name(id=\\'value_type\\', ctx=Store())], value=Name(id=\\'date\\', ctx=Load()), type_comment=None), Assign(targets=[Name(id=\\'entity\\', ctx=Store())], value=Name(id=\\'Person\\', ctx=Load()), type_comment=None), Assign(targets=[Name(id=\\'definition_period\\', ctx=Store())], value=Name(id=\\'ETERNITY\\', ctx=Load()), type_comment=None), Assign(targets=[Name(id=\\'label\\', ctx=Store())], value=Constant(value=\\'Date du début de la surcote\\', kind=None), type_comment=None)], decorator_list=[]), ClassDef(name=\\'regime_decote_annulation_date\\', bases=[Name(id=\\'Variable\\', ctx=Load())], keywords=[], body=[Assign(targets=[Name(id=\\'value_type\\', ctx=Store())], value=Name(id=\\'date\\', ctx=Load()), type_comment=None), Assign(targets=[Name(id=\\'entity\\', ctx=Store())], value=Name(id=\\'Person\\', ctx=Load()), type_comment=None), Assign(targets=[Name(id=\\'definition_period\\', ctx=Store())], value=Name(id=\\'ETERNITY\\', ctx=Load()), type_comment=None), Assign(targets=[Name(id=\\'label\\', ctx=Store())], value=Constant(value=\"Date d\\'annulation de la décote\\'\", kind=None), type_comment=None)], decorator_list=[]), ClassDef(name=\\'regime_taux_plein_date\\', bases=[Name(id=\\'Variable\\', ctx=Load())], keywords=[], body=[Assign(targets=[Name(id=\\'value_type\\', ctx=Store())], value=Name(id=\\'date\\', ctx=Load()), type_comment=None), Assign(targets=[Name(id=\\'entity\\', ctx=Store())], value=Name(id=\\'Person\\', ctx=Load()), type_comment=None), Assign(targets=[Name(id=\\'definition_period\\', ctx=Store())], value=Name(id=\\'ETERNITY\\', ctx=Load()), type_comment=None), Assign(targets=[Name(id=\\'label\\', ctx=Store())], value=Constant(value=\\'Date du taux plein\\', kind=None), type_comment=None)], decorator_list=[]), ClassDef(name=\\'regime_taux_de_liquidation\\', bases=[Name(id=\\'Variable\\', ctx=Load())], keywords=[], body=[Assign(targets=[Name(id=\\'value_type\\', ctx=Store())], value=Name(id=\\'float\\', ctx=Load()), type_comment=None), Assign(targets=[Name(id=\\'entity\\', ctx=Store())], value=Name(id=\\'Person\\', ctx=Load()), type_comment=None), Assign(targets=[Name(id=\\'definition_period\\', ctx=Store())], value=Name(id=\\'YEAR\\', ctx=Load()), type_comment=None), Assign(targets=[Name(id=\\'label\\', ctx=Store())], value=Constant(value=\\'Taux de liquidation de la pension\\', kind=None), type_comment=None), FunctionDef(name=\\'formula\\', args=arguments(posonlyargs=[], args=[arg(arg=\\'individu\\', annotation=None, type_comment=None), arg(arg=\\'period\\', annotation=None, type_comment=None), arg(arg=\\'parameters\\', annotation=None, type_comment=None)], vararg=None, kwonlyargs=[], kw_defaults=[], kwarg=None, defaults=[]), body=[Assign(targets=[Name(id=\\'decote\\', ctx=Store())], value=Call(func=Name(id=\\'individu\\', ctx=Load()), args=[Constant(value=\\'decote\\', kind=None), Name(id=\\'period\\', ctx=Load())], keywords=[]), type_comment=None), Assign(targets=[Name(id=\\'surcote\\', ctx=Store())], value=Call(func=Name(id=\\'individu\\', ctx=Load()), args=[Constant(value=\\'surcote\\', kind=None), Name(id=\\'period\\', ctx=Load())], keywords=[]), type_comment=None), Assign(targets=[Name(id=\\'taux_plein\\', ctx=Store())], value=Attribute(value=Attribute(value=Call(func=Name(id=\\'parameters\\', ctx=Load()), args=[Name(id=\\'period\\', ctx=Load())], keywords=[]), attr=\\'plein\\', ctx=Load()), attr=\\'taux\\', ctx=Load()), type_comment=None)], decorator_list=[], returns=None, type_comment=None), Return(value=BinOp(left=Name(id=\\'taux_plein\\', ctx=Load()), op=Mult(), right=BinOp(left=BinOp(left=Constant(value=1, kind=None), op=Sub(), right=Name(id=\\'decote\\', ctx=Load())), op=Add(), right=Name(id=\\'surcote\\', ctx=Load()))))], decorator_list=[]), ClassDef(name=\\'regime_cotisation_retraite\\', bases=[Name(id=\\'Variable\\', ctx=Load())], keywords=[], body=[Assign(targets=[Name(id=\\'value_type\\', ctx=Store())], value=Name(id=\\'float\\', ctx=Load()), type_comment=None), Assign(targets=[Name(id=\\'entity\\', ctx=Store())], value=Name(id=\\'Person\\', ctx=Load()), type_comment=None), Assign(targets=[Name(id=\\'definition_period\\', ctx=Store())], value=Name(id=\\'MONTH\\', ctx=Load()), type_comment=None), Assign(targets=[Name(id=\\'label\\', ctx=Store())], value=Constant(value=\\'cotisation retraite\\', kind=None), type_comment=None), FunctionDef(name=\\'formula\\', args=arguments(posonlyargs=[], args=[arg(arg=\\'individu\\', annotation=None, type_comment=None), arg(arg=\\'period\\', annotation=None, type_comment=None), arg(arg=\\'parameters\\', annotation=None, type_comment=None)], vararg=None, kwonlyargs=[], kw_defaults=[], kwarg=None, defaults=[]), body=[Assign(targets=[Name(id=\\'salaire_brut\\', ctx=Store())], value=Call(func=Name(id=\\'individu\\', ctx=Load()), args=[Constant(value=\\'salaire_brut\\', kind=None), Name(id=\\'period\\', ctx=Load())], keywords=[]), type_comment=None), Assign(targets=[Name(id=\\'taux\\', ctx=Store())], value=Attribute(value=Attribute(value=Call(func=Name(id=\\'parameters\\', ctx=Load()), args=[Name(id=\\'period\\', ctx=Load())], keywords=[]), attr=\\'cotisation\\', ctx=Load()), attr=\\'taux\\', ctx=Load()), type_comment=None), Return(value=BinOp(left=Name(id=\\'salaire_brut\\', ctx=Load()), op=Mult(), right=Name(id=\\'taux\\', ctx=Load())))], decorator_list=[], returns=None, type_comment=None)], decorator_list=[]), ClassDef(name=\\'regime_de_base_salaire_de_reference\\', bases=[Name(id=\\'Variable\\', ctx=Load())], keywords=[], body=[Assign(targets=[Name(id=\\'value_type\\', ctx=Store())], value=Name(id=\\'float\\', ctx=Load()), type_comment=None), Assign(targets=[Name(id=\\'entity\\', ctx=Store())], value=Name(id=\\'Person\\', ctx=Load()), type_comment=None), Assign(targets=[Name(id=\\'definition_period\\', ctx=Store())], value=Name(id=\\'ETERNITY\\', ctx=Load()), type_comment=None), Assign(targets=[Name(id=\\'label\\', ctx=Store())], value=Constant(value=\\'Salaire de référence\\', kind=None), type_comment=None)], decorator_list=[]), ClassDef(name=\\'regime_de_base_trimestres\\', bases=[Name(id=\\'Variable\\', ctx=Load())], keywords=[], body=[Assign(targets=[Name(id=\\'value_type\\', ctx=Store())], value=Name(id=\\'int\\', ctx=Load()), type_comment=None), Assign(targets=[Name(id=\\'entity\\', ctx=Store())], value=Name(id=\\'Person\\', ctx=Load()), type_comment=None), Assign(targets=[Name(id=\\'definition_period\\', ctx=Store())], value=Name(id=\\'YEAR\\', ctx=Load()), type_comment=None), Assign(targets=[Name(id=\\'label\\', ctx=Store())], value=Constant(value=\\'Trimestres\\', kind=None), type_comment=None)], decorator_list=[]), ClassDef(name=\\'regime_de_base_majoration_pension\\', bases=[Name(id=\\'Variable\\', ctx=Load())], keywords=[], body=[Assign(targets=[Name(id=\\'value_type\\', ctx=Store())], value=Name(id=\\'int\\', ctx=Load()), type_comment=None), Assign(targets=[Name(id=\\'entity\\', ctx=Store())], value=Name(id=\\'Person\\', ctx=Load()), type_comment=None), Assign(targets=[Name(id=\\'definition_period\\', ctx=Store())], value=Name(id=\\'MONTH\\', ctx=Load()), type_comment=None), Assign(targets=[Name(id=\\'label\\', ctx=Store())], value=Constant(value=\\'Majoration de pension\\', kind=None), type_comment=None)], decorator_list=[]), ClassDef(name=\\'regime_de_base_decote\\', bases=[Name(id=\\'Variable\\', ctx=Load())], keywords=[], body=[Assign(targets=[Name(id=\\'value_type\\', ctx=Store())], value=Name(id=\\'float\\', ctx=Load()), type_comment=None), Assign(targets=[Name(id=\\'entity\\', ctx=Store())], value=Name(id=\\'Person\\', ctx=Load()), type_comment=None), Assign(targets=[Name(id=\\'definition_period\\', ctx=Store())], value=Name(id=\\'YEAR\\', ctx=Load()), type_comment=None), Assign(targets=[Name(id=\\'label\\', ctx=Store())], value=Constant(value=\\'Décote\\', kind=None), type_comment=None), FunctionDef(name=\\'formula\\', args=arguments(posonlyargs=[], args=[arg(arg=\\'individu\\', annotation=None, type_comment=None), arg(arg=\\'period\\', annotation=None, type_comment=None), arg(arg=\\'parameters\\', annotation=None, type_comment=None)], vararg=None, kwonlyargs=[], kw_defaults=[], kwarg=None, defaults=[]), body=[Assign(targets=[Name(id=\\'taux\\', ctx=Store())], value=Attribute(value=Attribute(value=Call(func=Name(id=\\'parameters\\', ctx=Load()), args=[Name(id=\\'period\\', ctx=Load())], keywords=[]), attr=\\'decote\\', ctx=Load()), attr=\\'taux\\', ctx=Load()), type_comment=None), Assign(targets=[Name(id=\\'trimestres_debut\\', ctx=Store())], value=Attribute(value=Attribute(value=Call(func=Name(id=\\'parameters\\', ctx=Load()), args=[Name(id=\\'period\\', ctx=Load())], keywords=[]), attr=\\'decote\\', ctx=Load()), attr=\\'trimestres_debut\\', ctx=Load()), type_comment=None), Assign(targets=[Name(id=\\'trimestres\\', ctx=Store())], value=Call(func=Name(id=\\'individu\\', ctx=Load()), args=[Constant(value=\\'trimestres\\', kind=None), Name(id=\\'period\\', ctx=Load())], keywords=[]), type_comment=None), Return(value=BinOp(left=Name(id=\\'decote\\', ctx=Load()), op=Mult(), right=Call(func=Name(id=\\'max_\\', ctx=Load()), args=[BinOp(left=Name(id=\\'trimestres\\', ctx=Load()), op=Sub(), right=Name(id=\\'trimestres\\', ctx=Load())), Constant(value=0, kind=None)], keywords=[])))], decorator_list=[], returns=None, type_comment=None)], decorator_list=[]), ClassDef(name=\\'regime_de_base_pension_brute\\', bases=[Name(id=\\'Variable\\', ctx=Load())], keywords=[], body=[Assign(targets=[Name(id=\\'value_type\\', ctx=Store())], value=Name(id=\\'float\\', ctx=Load()), type_comment=None), Assign(targets=[Name(id=\\'entity\\', ctx=Store())], value=Name(id=\\'Person\\', ctx=Load()), type_comment=None), Assign(targets=[Name(id=\\'definition_period\\', ctx=Store())], value=Name(id=\\'YEAR\\', ctx=Load()), type_comment=None), Assign(targets=[Name(id=\\'label\\', ctx=Store())], value=Constant(value=\\'Décote\\', kind=None), type_comment=None), FunctionDef(name=\\'formula\\', args=arguments(posonlyargs=[], args=[arg(arg=\\'individu\\', annotation=None, type_comment=None), arg(arg=\\'period\\', annotation=None, type_comment=None), arg(arg=\\'parameters\\', annotation=None, type_comment=None)], vararg=None, kwonlyargs=[], kw_defaults=[], kwarg=None, defaults=[]), body=[Assign(targets=[Name(id=\\'coefficent_de_proratisation\\', ctx=Store())], value=Call(func=Name(id=\\'individu\\', ctx=Load()), args=[Constant(value=\\'coefficent_de_proratisation\\', kind=None), Name(id=\\'period\\', ctx=Load())], keywords=[]), type_comment=None), Assign(targets=[Name(id=\\'salaire_de_reference\\', ctx=Store())], value=Call(func=Name(id=\\'individu\\', ctx=Load()), args=[Constant(value=\\'salaire_de_reference\\', kind=None), Name(id=\\'period\\', ctx=Load())], keywords=[]), type_comment=None), Assign(targets=[Name(id=\\'taux_de_liquidation\\', ctx=Store())], value=Call(func=Name(id=\\'individu\\', ctx=Load()), args=[Constant(value=\\'taux_de_liquidation\\', kind=None), Name(id=\\'period\\', ctx=Load())], keywords=[]), type_comment=None), Return(value=BinOp(left=BinOp(left=Name(id=\\'coefficent_de_proratisation\\', ctx=Load()), op=Mult(), right=Name(id=\\'salaire_de_reference\\', ctx=Load())), op=Mult(), right=Name(id=\\'taux_de_liquidation\\', ctx=Load())))], decorator_list=[], returns=None, type_comment=None)], decorator_list=[])])'"
      ]
     },
     "execution_count": 118,
     "metadata": {},
     "output_type": "execute_result"
    }
   ],
   "source": [
    "ast.dump(output_tree)"
   ]
  },
  {
   "cell_type": "code",
   "execution_count": 119,
   "metadata": {},
   "outputs": [
    {
     "ename": "AttributeError",
     "evalue": "module 'ast' has no attribute 'unparse'",
     "output_type": "error",
     "traceback": [
      "\u001b[0;31m---------------------------------------------------------------------------\u001b[0m",
      "\u001b[0;31mAttributeError\u001b[0m                            Traceback (most recent call last)",
      "\u001b[0;32m<ipython-input-119-423a8f6c0d96>\u001b[0m in \u001b[0;36m<module>\u001b[0;34m\u001b[0m\n\u001b[0;32m----> 1\u001b[0;31m \u001b[0moutput_code\u001b[0m \u001b[0;34m=\u001b[0m \u001b[0mast\u001b[0m\u001b[0;34m.\u001b[0m\u001b[0munparse\u001b[0m\u001b[0;34m(\u001b[0m\u001b[0moutput_tree\u001b[0m\u001b[0;34m)\u001b[0m\u001b[0;34m\u001b[0m\u001b[0;34m\u001b[0m\u001b[0m\n\u001b[0m",
      "\u001b[0;31mAttributeError\u001b[0m: module 'ast' has no attribute 'unparse'"
     ]
    }
   ],
   "source": [
    "output_code = ast.unparse(output_tree)"
   ]
  },
  {
   "cell_type": "markdown",
   "metadata": {},
   "source": [
    "### Try to create a new empty ast Module and copy nodes into it's body from the code parsed"
   ]
  },
  {
   "cell_type": "code",
   "execution_count": 120,
   "metadata": {},
   "outputs": [],
   "source": [
    "input_tree = ast.parse(code)"
   ]
  },
  {
   "cell_type": "code",
   "execution_count": 128,
   "metadata": {},
   "outputs": [],
   "source": [
    "output_tree2 = ast.Module(body=[], type_ignores=[])"
   ]
  },
  {
   "cell_type": "code",
   "execution_count": null,
   "metadata": {},
   "outputs": [],
   "source": []
  },
  {
   "cell_type": "code",
   "execution_count": 122,
   "metadata": {},
   "outputs": [
    {
     "name": "stdout",
     "output_type": "stream",
     "text": [
      "<class '_ast.ClassDef'>\n",
      "0\n",
      "<class '_ast.ImportFrom'>\n",
      "1\n",
      "<class '_ast.ImportFrom'>\n",
      "2\n",
      "<class '_ast.ImportFrom'>\n",
      "3\n",
      "<class '_ast.ImportFrom'>\n",
      "4\n",
      "<class '_ast.ImportFrom'>\n",
      "5\n",
      "regime_salaire_brut\n",
      "regime_surcote_debut_date\n",
      "regime_decote_annulation_date\n",
      "regime_taux_plein_date\n",
      "regime_taux_de_liquidation\n",
      "regime_cotisation_retraite\n",
      "<class '_ast.ClassDef'>\n",
      "6\n",
      "regime_de_base_salaire_de_reference\n",
      "regime_de_base_trimestres\n",
      "regime_de_base_majoration_pension\n",
      "regime_de_base_decote\n",
      "regime_de_base_pension_brute\n"
     ]
    }
   ],
   "source": [
    "for i in range(0, len(input_tree.body)):\n",
    "    print(type(node))\n",
    "    node = input_tree.body[i]\n",
    "    print(i) \n",
    "    if type(node) == ast.ClassDef and \"Regime\" in node.name :\n",
    "        # print the line with the number\n",
    "        # print(\"lineno=\", lines[node.lineno])\n",
    "        # regimes[node.name] = node\n",
    "        # print(\"new regime added =\", node.name, \"\\n\", ast.dump(node))\n",
    "        for j in range (0, len(node.body)):\n",
    "            el = node.body[j]\n",
    "            if type(el)== ast.ClassDef:\n",
    "                el.name = str(inflection.underscore(node.name) + \"_\" + el.name)\n",
    "                print(el.name)\n",
    "                output_tree2.body.append(el)\n",
    "    else : \n",
    "            output_tree2.body.append(node)\n",
    "            \n",
    "    \n",
    "    #print(\"\\n\") "
   ]
  },
  {
   "cell_type": "code",
   "execution_count": 123,
   "metadata": {},
   "outputs": [
    {
     "name": "stdout",
     "output_type": "stream",
     "text": [
      "Module(body=[ImportFrom(module='datetime', names=[alias(name='date', asname=None)], level=0), ImportFrom(module='openfisca_core.model_api', names=[alias(name='max_', asname=None)], level=0), ImportFrom(module='openfisca_core.periods', names=[alias(name='MONTH', asname=None), alias(name='ETERNITY', asname=None)], level=0), ImportFrom(module='openfisca_core.variables', names=[alias(name='Variable', asname=None)], level=0), ImportFrom(module='openfisca_france_pension.entities', names=[alias(name='Household', asname=None), alias(name='Person', asname=None)], level=0), ClassDef(name='regime_salaire_brut', bases=[Name(id='Variable', ctx=Load())], keywords=[], body=[Assign(targets=[Name(id='value_type', ctx=Store())], value=Name(id='float', ctx=Load()), type_comment=None), Assign(targets=[Name(id='entity', ctx=Store())], value=Name(id='Person', ctx=Load()), type_comment=None), Assign(targets=[Name(id='definition_period', ctx=Store())], value=Name(id='MONTH', ctx=Load()), type_comment=None), Assign(targets=[Name(id='label', ctx=Store())], value=Constant(value='Salaire brut', kind=None), type_comment=None)], decorator_list=[]), ClassDef(name='regime_surcote_debut_date', bases=[Name(id='Variable', ctx=Load())], keywords=[], body=[Assign(targets=[Name(id='value_type', ctx=Store())], value=Name(id='date', ctx=Load()), type_comment=None), Assign(targets=[Name(id='entity', ctx=Store())], value=Name(id='Person', ctx=Load()), type_comment=None), Assign(targets=[Name(id='definition_period', ctx=Store())], value=Name(id='ETERNITY', ctx=Load()), type_comment=None), Assign(targets=[Name(id='label', ctx=Store())], value=Constant(value='Date du début de la surcote', kind=None), type_comment=None)], decorator_list=[]), ClassDef(name='regime_decote_annulation_date', bases=[Name(id='Variable', ctx=Load())], keywords=[], body=[Assign(targets=[Name(id='value_type', ctx=Store())], value=Name(id='date', ctx=Load()), type_comment=None), Assign(targets=[Name(id='entity', ctx=Store())], value=Name(id='Person', ctx=Load()), type_comment=None), Assign(targets=[Name(id='definition_period', ctx=Store())], value=Name(id='ETERNITY', ctx=Load()), type_comment=None), Assign(targets=[Name(id='label', ctx=Store())], value=Constant(value=\"Date d'annulation de la décote'\", kind=None), type_comment=None)], decorator_list=[]), ClassDef(name='regime_taux_plein_date', bases=[Name(id='Variable', ctx=Load())], keywords=[], body=[Assign(targets=[Name(id='value_type', ctx=Store())], value=Name(id='date', ctx=Load()), type_comment=None), Assign(targets=[Name(id='entity', ctx=Store())], value=Name(id='Person', ctx=Load()), type_comment=None), Assign(targets=[Name(id='definition_period', ctx=Store())], value=Name(id='ETERNITY', ctx=Load()), type_comment=None), Assign(targets=[Name(id='label', ctx=Store())], value=Constant(value='Date du taux plein', kind=None), type_comment=None)], decorator_list=[]), ClassDef(name='regime_taux_de_liquidation', bases=[Name(id='Variable', ctx=Load())], keywords=[], body=[Assign(targets=[Name(id='value_type', ctx=Store())], value=Name(id='float', ctx=Load()), type_comment=None), Assign(targets=[Name(id='entity', ctx=Store())], value=Name(id='Person', ctx=Load()), type_comment=None), Assign(targets=[Name(id='definition_period', ctx=Store())], value=Name(id='YEAR', ctx=Load()), type_comment=None), Assign(targets=[Name(id='label', ctx=Store())], value=Constant(value='Taux de liquidation de la pension', kind=None), type_comment=None), FunctionDef(name='formula', args=arguments(posonlyargs=[], args=[arg(arg='individu', annotation=None, type_comment=None), arg(arg='period', annotation=None, type_comment=None), arg(arg='parameters', annotation=None, type_comment=None)], vararg=None, kwonlyargs=[], kw_defaults=[], kwarg=None, defaults=[]), body=[Assign(targets=[Name(id='decote', ctx=Store())], value=Call(func=Name(id='individu', ctx=Load()), args=[Constant(value='decote', kind=None), Name(id='period', ctx=Load())], keywords=[]), type_comment=None), Assign(targets=[Name(id='surcote', ctx=Store())], value=Call(func=Name(id='individu', ctx=Load()), args=[Constant(value='surcote', kind=None), Name(id='period', ctx=Load())], keywords=[]), type_comment=None), Assign(targets=[Name(id='taux_plein', ctx=Store())], value=Attribute(value=Attribute(value=Call(func=Name(id='parameters', ctx=Load()), args=[Name(id='period', ctx=Load())], keywords=[]), attr='plein', ctx=Load()), attr='taux', ctx=Load()), type_comment=None)], decorator_list=[], returns=None, type_comment=None), Return(value=BinOp(left=Name(id='taux_plein', ctx=Load()), op=Mult(), right=BinOp(left=BinOp(left=Constant(value=1, kind=None), op=Sub(), right=Name(id='decote', ctx=Load())), op=Add(), right=Name(id='surcote', ctx=Load()))))], decorator_list=[]), ClassDef(name='regime_cotisation_retraite', bases=[Name(id='Variable', ctx=Load())], keywords=[], body=[Assign(targets=[Name(id='value_type', ctx=Store())], value=Name(id='float', ctx=Load()), type_comment=None), Assign(targets=[Name(id='entity', ctx=Store())], value=Name(id='Person', ctx=Load()), type_comment=None), Assign(targets=[Name(id='definition_period', ctx=Store())], value=Name(id='MONTH', ctx=Load()), type_comment=None), Assign(targets=[Name(id='label', ctx=Store())], value=Constant(value='cotisation retraite', kind=None), type_comment=None), FunctionDef(name='formula', args=arguments(posonlyargs=[], args=[arg(arg='individu', annotation=None, type_comment=None), arg(arg='period', annotation=None, type_comment=None), arg(arg='parameters', annotation=None, type_comment=None)], vararg=None, kwonlyargs=[], kw_defaults=[], kwarg=None, defaults=[]), body=[Assign(targets=[Name(id='salaire_brut', ctx=Store())], value=Call(func=Name(id='individu', ctx=Load()), args=[Constant(value='salaire_brut', kind=None), Name(id='period', ctx=Load())], keywords=[]), type_comment=None), Assign(targets=[Name(id='taux', ctx=Store())], value=Attribute(value=Attribute(value=Call(func=Name(id='parameters', ctx=Load()), args=[Name(id='period', ctx=Load())], keywords=[]), attr='cotisation', ctx=Load()), attr='taux', ctx=Load()), type_comment=None), Return(value=BinOp(left=Name(id='salaire_brut', ctx=Load()), op=Mult(), right=Name(id='taux', ctx=Load())))], decorator_list=[], returns=None, type_comment=None)], decorator_list=[]), ClassDef(name='regime_de_base_salaire_de_reference', bases=[Name(id='Variable', ctx=Load())], keywords=[], body=[Assign(targets=[Name(id='value_type', ctx=Store())], value=Name(id='float', ctx=Load()), type_comment=None), Assign(targets=[Name(id='entity', ctx=Store())], value=Name(id='Person', ctx=Load()), type_comment=None), Assign(targets=[Name(id='definition_period', ctx=Store())], value=Name(id='ETERNITY', ctx=Load()), type_comment=None), Assign(targets=[Name(id='label', ctx=Store())], value=Constant(value='Salaire de référence', kind=None), type_comment=None)], decorator_list=[]), ClassDef(name='regime_de_base_trimestres', bases=[Name(id='Variable', ctx=Load())], keywords=[], body=[Assign(targets=[Name(id='value_type', ctx=Store())], value=Name(id='int', ctx=Load()), type_comment=None), Assign(targets=[Name(id='entity', ctx=Store())], value=Name(id='Person', ctx=Load()), type_comment=None), Assign(targets=[Name(id='definition_period', ctx=Store())], value=Name(id='YEAR', ctx=Load()), type_comment=None), Assign(targets=[Name(id='label', ctx=Store())], value=Constant(value='Trimestres', kind=None), type_comment=None)], decorator_list=[]), ClassDef(name='regime_de_base_majoration_pension', bases=[Name(id='Variable', ctx=Load())], keywords=[], body=[Assign(targets=[Name(id='value_type', ctx=Store())], value=Name(id='int', ctx=Load()), type_comment=None), Assign(targets=[Name(id='entity', ctx=Store())], value=Name(id='Person', ctx=Load()), type_comment=None), Assign(targets=[Name(id='definition_period', ctx=Store())], value=Name(id='MONTH', ctx=Load()), type_comment=None), Assign(targets=[Name(id='label', ctx=Store())], value=Constant(value='Majoration de pension', kind=None), type_comment=None)], decorator_list=[]), ClassDef(name='regime_de_base_decote', bases=[Name(id='Variable', ctx=Load())], keywords=[], body=[Assign(targets=[Name(id='value_type', ctx=Store())], value=Name(id='float', ctx=Load()), type_comment=None), Assign(targets=[Name(id='entity', ctx=Store())], value=Name(id='Person', ctx=Load()), type_comment=None), Assign(targets=[Name(id='definition_period', ctx=Store())], value=Name(id='YEAR', ctx=Load()), type_comment=None), Assign(targets=[Name(id='label', ctx=Store())], value=Constant(value='Décote', kind=None), type_comment=None), FunctionDef(name='formula', args=arguments(posonlyargs=[], args=[arg(arg='individu', annotation=None, type_comment=None), arg(arg='period', annotation=None, type_comment=None), arg(arg='parameters', annotation=None, type_comment=None)], vararg=None, kwonlyargs=[], kw_defaults=[], kwarg=None, defaults=[]), body=[Assign(targets=[Name(id='taux', ctx=Store())], value=Attribute(value=Attribute(value=Call(func=Name(id='parameters', ctx=Load()), args=[Name(id='period', ctx=Load())], keywords=[]), attr='decote', ctx=Load()), attr='taux', ctx=Load()), type_comment=None), Assign(targets=[Name(id='trimestres_debut', ctx=Store())], value=Attribute(value=Attribute(value=Call(func=Name(id='parameters', ctx=Load()), args=[Name(id='period', ctx=Load())], keywords=[]), attr='decote', ctx=Load()), attr='trimestres_debut', ctx=Load()), type_comment=None), Assign(targets=[Name(id='trimestres', ctx=Store())], value=Call(func=Name(id='individu', ctx=Load()), args=[Constant(value='trimestres', kind=None), Name(id='period', ctx=Load())], keywords=[]), type_comment=None), Return(value=BinOp(left=Name(id='decote', ctx=Load()), op=Mult(), right=Call(func=Name(id='max_', ctx=Load()), args=[BinOp(left=Name(id='trimestres', ctx=Load()), op=Sub(), right=Name(id='trimestres', ctx=Load())), Constant(value=0, kind=None)], keywords=[])))], decorator_list=[], returns=None, type_comment=None)], decorator_list=[]), ClassDef(name='regime_de_base_pension_brute', bases=[Name(id='Variable', ctx=Load())], keywords=[], body=[Assign(targets=[Name(id='value_type', ctx=Store())], value=Name(id='float', ctx=Load()), type_comment=None), Assign(targets=[Name(id='entity', ctx=Store())], value=Name(id='Person', ctx=Load()), type_comment=None), Assign(targets=[Name(id='definition_period', ctx=Store())], value=Name(id='YEAR', ctx=Load()), type_comment=None), Assign(targets=[Name(id='label', ctx=Store())], value=Constant(value='Décote', kind=None), type_comment=None), FunctionDef(name='formula', args=arguments(posonlyargs=[], args=[arg(arg='individu', annotation=None, type_comment=None), arg(arg='period', annotation=None, type_comment=None), arg(arg='parameters', annotation=None, type_comment=None)], vararg=None, kwonlyargs=[], kw_defaults=[], kwarg=None, defaults=[]), body=[Assign(targets=[Name(id='coefficent_de_proratisation', ctx=Store())], value=Call(func=Name(id='individu', ctx=Load()), args=[Constant(value='coefficent_de_proratisation', kind=None), Name(id='period', ctx=Load())], keywords=[]), type_comment=None), Assign(targets=[Name(id='salaire_de_reference', ctx=Store())], value=Call(func=Name(id='individu', ctx=Load()), args=[Constant(value='salaire_de_reference', kind=None), Name(id='period', ctx=Load())], keywords=[]), type_comment=None), Assign(targets=[Name(id='taux_de_liquidation', ctx=Store())], value=Call(func=Name(id='individu', ctx=Load()), args=[Constant(value='taux_de_liquidation', kind=None), Name(id='period', ctx=Load())], keywords=[]), type_comment=None), Return(value=BinOp(left=BinOp(left=Name(id='coefficent_de_proratisation', ctx=Load()), op=Mult(), right=Name(id='salaire_de_reference', ctx=Load())), op=Mult(), right=Name(id='taux_de_liquidation', ctx=Load())))], decorator_list=[], returns=None, type_comment=None)], decorator_list=[])])\n"
     ]
    }
   ],
   "source": [
    "print(ast.dump(output_tree2))"
   ]
  },
  {
   "cell_type": "code",
   "execution_count": 124,
   "metadata": {},
   "outputs": [
    {
     "name": "stdout",
     "output_type": "stream",
     "text": [
      "ImportFrom(module='datetime', names=[alias(name='date', asname=None)], level=0)\n",
      "\n",
      "\n",
      "ImportFrom(module='openfisca_core.model_api', names=[alias(name='max_', asname=None)], level=0)\n",
      "\n",
      "\n",
      "ImportFrom(module='openfisca_core.periods', names=[alias(name='MONTH', asname=None), alias(name='ETERNITY', asname=None)], level=0)\n",
      "\n",
      "\n",
      "ImportFrom(module='openfisca_core.variables', names=[alias(name='Variable', asname=None)], level=0)\n",
      "\n",
      "\n",
      "ImportFrom(module='openfisca_france_pension.entities', names=[alias(name='Household', asname=None), alias(name='Person', asname=None)], level=0)\n",
      "\n",
      "\n",
      "ClassDef(name='regime_salaire_brut', bases=[Name(id='Variable', ctx=Load())], keywords=[], body=[Assign(targets=[Name(id='value_type', ctx=Store())], value=Name(id='float', ctx=Load()), type_comment=None), Assign(targets=[Name(id='entity', ctx=Store())], value=Name(id='Person', ctx=Load()), type_comment=None), Assign(targets=[Name(id='definition_period', ctx=Store())], value=Name(id='MONTH', ctx=Load()), type_comment=None), Assign(targets=[Name(id='label', ctx=Store())], value=Constant(value='Salaire brut', kind=None), type_comment=None)], decorator_list=[])\n",
      "\n",
      "\n",
      "ClassDef(name='regime_surcote_debut_date', bases=[Name(id='Variable', ctx=Load())], keywords=[], body=[Assign(targets=[Name(id='value_type', ctx=Store())], value=Name(id='date', ctx=Load()), type_comment=None), Assign(targets=[Name(id='entity', ctx=Store())], value=Name(id='Person', ctx=Load()), type_comment=None), Assign(targets=[Name(id='definition_period', ctx=Store())], value=Name(id='ETERNITY', ctx=Load()), type_comment=None), Assign(targets=[Name(id='label', ctx=Store())], value=Constant(value='Date du début de la surcote', kind=None), type_comment=None)], decorator_list=[])\n",
      "\n",
      "\n",
      "ClassDef(name='regime_decote_annulation_date', bases=[Name(id='Variable', ctx=Load())], keywords=[], body=[Assign(targets=[Name(id='value_type', ctx=Store())], value=Name(id='date', ctx=Load()), type_comment=None), Assign(targets=[Name(id='entity', ctx=Store())], value=Name(id='Person', ctx=Load()), type_comment=None), Assign(targets=[Name(id='definition_period', ctx=Store())], value=Name(id='ETERNITY', ctx=Load()), type_comment=None), Assign(targets=[Name(id='label', ctx=Store())], value=Constant(value=\"Date d'annulation de la décote'\", kind=None), type_comment=None)], decorator_list=[])\n",
      "\n",
      "\n",
      "ClassDef(name='regime_taux_plein_date', bases=[Name(id='Variable', ctx=Load())], keywords=[], body=[Assign(targets=[Name(id='value_type', ctx=Store())], value=Name(id='date', ctx=Load()), type_comment=None), Assign(targets=[Name(id='entity', ctx=Store())], value=Name(id='Person', ctx=Load()), type_comment=None), Assign(targets=[Name(id='definition_period', ctx=Store())], value=Name(id='ETERNITY', ctx=Load()), type_comment=None), Assign(targets=[Name(id='label', ctx=Store())], value=Constant(value='Date du taux plein', kind=None), type_comment=None)], decorator_list=[])\n",
      "\n",
      "\n",
      "ClassDef(name='regime_taux_de_liquidation', bases=[Name(id='Variable', ctx=Load())], keywords=[], body=[Assign(targets=[Name(id='value_type', ctx=Store())], value=Name(id='float', ctx=Load()), type_comment=None), Assign(targets=[Name(id='entity', ctx=Store())], value=Name(id='Person', ctx=Load()), type_comment=None), Assign(targets=[Name(id='definition_period', ctx=Store())], value=Name(id='YEAR', ctx=Load()), type_comment=None), Assign(targets=[Name(id='label', ctx=Store())], value=Constant(value='Taux de liquidation de la pension', kind=None), type_comment=None), FunctionDef(name='formula', args=arguments(posonlyargs=[], args=[arg(arg='individu', annotation=None, type_comment=None), arg(arg='period', annotation=None, type_comment=None), arg(arg='parameters', annotation=None, type_comment=None)], vararg=None, kwonlyargs=[], kw_defaults=[], kwarg=None, defaults=[]), body=[Assign(targets=[Name(id='decote', ctx=Store())], value=Call(func=Name(id='individu', ctx=Load()), args=[Constant(value='decote', kind=None), Name(id='period', ctx=Load())], keywords=[]), type_comment=None), Assign(targets=[Name(id='surcote', ctx=Store())], value=Call(func=Name(id='individu', ctx=Load()), args=[Constant(value='surcote', kind=None), Name(id='period', ctx=Load())], keywords=[]), type_comment=None), Assign(targets=[Name(id='taux_plein', ctx=Store())], value=Attribute(value=Attribute(value=Call(func=Name(id='parameters', ctx=Load()), args=[Name(id='period', ctx=Load())], keywords=[]), attr='plein', ctx=Load()), attr='taux', ctx=Load()), type_comment=None)], decorator_list=[], returns=None, type_comment=None), Return(value=BinOp(left=Name(id='taux_plein', ctx=Load()), op=Mult(), right=BinOp(left=BinOp(left=Constant(value=1, kind=None), op=Sub(), right=Name(id='decote', ctx=Load())), op=Add(), right=Name(id='surcote', ctx=Load()))))], decorator_list=[])\n",
      "\n",
      "\n",
      "ClassDef(name='regime_cotisation_retraite', bases=[Name(id='Variable', ctx=Load())], keywords=[], body=[Assign(targets=[Name(id='value_type', ctx=Store())], value=Name(id='float', ctx=Load()), type_comment=None), Assign(targets=[Name(id='entity', ctx=Store())], value=Name(id='Person', ctx=Load()), type_comment=None), Assign(targets=[Name(id='definition_period', ctx=Store())], value=Name(id='MONTH', ctx=Load()), type_comment=None), Assign(targets=[Name(id='label', ctx=Store())], value=Constant(value='cotisation retraite', kind=None), type_comment=None), FunctionDef(name='formula', args=arguments(posonlyargs=[], args=[arg(arg='individu', annotation=None, type_comment=None), arg(arg='period', annotation=None, type_comment=None), arg(arg='parameters', annotation=None, type_comment=None)], vararg=None, kwonlyargs=[], kw_defaults=[], kwarg=None, defaults=[]), body=[Assign(targets=[Name(id='salaire_brut', ctx=Store())], value=Call(func=Name(id='individu', ctx=Load()), args=[Constant(value='salaire_brut', kind=None), Name(id='period', ctx=Load())], keywords=[]), type_comment=None), Assign(targets=[Name(id='taux', ctx=Store())], value=Attribute(value=Attribute(value=Call(func=Name(id='parameters', ctx=Load()), args=[Name(id='period', ctx=Load())], keywords=[]), attr='cotisation', ctx=Load()), attr='taux', ctx=Load()), type_comment=None), Return(value=BinOp(left=Name(id='salaire_brut', ctx=Load()), op=Mult(), right=Name(id='taux', ctx=Load())))], decorator_list=[], returns=None, type_comment=None)], decorator_list=[])\n",
      "\n",
      "\n",
      "ClassDef(name='regime_de_base_salaire_de_reference', bases=[Name(id='Variable', ctx=Load())], keywords=[], body=[Assign(targets=[Name(id='value_type', ctx=Store())], value=Name(id='float', ctx=Load()), type_comment=None), Assign(targets=[Name(id='entity', ctx=Store())], value=Name(id='Person', ctx=Load()), type_comment=None), Assign(targets=[Name(id='definition_period', ctx=Store())], value=Name(id='ETERNITY', ctx=Load()), type_comment=None), Assign(targets=[Name(id='label', ctx=Store())], value=Constant(value='Salaire de référence', kind=None), type_comment=None)], decorator_list=[])\n",
      "\n",
      "\n",
      "ClassDef(name='regime_de_base_trimestres', bases=[Name(id='Variable', ctx=Load())], keywords=[], body=[Assign(targets=[Name(id='value_type', ctx=Store())], value=Name(id='int', ctx=Load()), type_comment=None), Assign(targets=[Name(id='entity', ctx=Store())], value=Name(id='Person', ctx=Load()), type_comment=None), Assign(targets=[Name(id='definition_period', ctx=Store())], value=Name(id='YEAR', ctx=Load()), type_comment=None), Assign(targets=[Name(id='label', ctx=Store())], value=Constant(value='Trimestres', kind=None), type_comment=None)], decorator_list=[])\n",
      "\n",
      "\n",
      "ClassDef(name='regime_de_base_majoration_pension', bases=[Name(id='Variable', ctx=Load())], keywords=[], body=[Assign(targets=[Name(id='value_type', ctx=Store())], value=Name(id='int', ctx=Load()), type_comment=None), Assign(targets=[Name(id='entity', ctx=Store())], value=Name(id='Person', ctx=Load()), type_comment=None), Assign(targets=[Name(id='definition_period', ctx=Store())], value=Name(id='MONTH', ctx=Load()), type_comment=None), Assign(targets=[Name(id='label', ctx=Store())], value=Constant(value='Majoration de pension', kind=None), type_comment=None)], decorator_list=[])\n",
      "\n",
      "\n",
      "ClassDef(name='regime_de_base_decote', bases=[Name(id='Variable', ctx=Load())], keywords=[], body=[Assign(targets=[Name(id='value_type', ctx=Store())], value=Name(id='float', ctx=Load()), type_comment=None), Assign(targets=[Name(id='entity', ctx=Store())], value=Name(id='Person', ctx=Load()), type_comment=None), Assign(targets=[Name(id='definition_period', ctx=Store())], value=Name(id='YEAR', ctx=Load()), type_comment=None), Assign(targets=[Name(id='label', ctx=Store())], value=Constant(value='Décote', kind=None), type_comment=None), FunctionDef(name='formula', args=arguments(posonlyargs=[], args=[arg(arg='individu', annotation=None, type_comment=None), arg(arg='period', annotation=None, type_comment=None), arg(arg='parameters', annotation=None, type_comment=None)], vararg=None, kwonlyargs=[], kw_defaults=[], kwarg=None, defaults=[]), body=[Assign(targets=[Name(id='taux', ctx=Store())], value=Attribute(value=Attribute(value=Call(func=Name(id='parameters', ctx=Load()), args=[Name(id='period', ctx=Load())], keywords=[]), attr='decote', ctx=Load()), attr='taux', ctx=Load()), type_comment=None), Assign(targets=[Name(id='trimestres_debut', ctx=Store())], value=Attribute(value=Attribute(value=Call(func=Name(id='parameters', ctx=Load()), args=[Name(id='period', ctx=Load())], keywords=[]), attr='decote', ctx=Load()), attr='trimestres_debut', ctx=Load()), type_comment=None), Assign(targets=[Name(id='trimestres', ctx=Store())], value=Call(func=Name(id='individu', ctx=Load()), args=[Constant(value='trimestres', kind=None), Name(id='period', ctx=Load())], keywords=[]), type_comment=None), Return(value=BinOp(left=Name(id='decote', ctx=Load()), op=Mult(), right=Call(func=Name(id='max_', ctx=Load()), args=[BinOp(left=Name(id='trimestres', ctx=Load()), op=Sub(), right=Name(id='trimestres', ctx=Load())), Constant(value=0, kind=None)], keywords=[])))], decorator_list=[], returns=None, type_comment=None)], decorator_list=[])\n",
      "\n",
      "\n",
      "ClassDef(name='regime_de_base_pension_brute', bases=[Name(id='Variable', ctx=Load())], keywords=[], body=[Assign(targets=[Name(id='value_type', ctx=Store())], value=Name(id='float', ctx=Load()), type_comment=None), Assign(targets=[Name(id='entity', ctx=Store())], value=Name(id='Person', ctx=Load()), type_comment=None), Assign(targets=[Name(id='definition_period', ctx=Store())], value=Name(id='YEAR', ctx=Load()), type_comment=None), Assign(targets=[Name(id='label', ctx=Store())], value=Constant(value='Décote', kind=None), type_comment=None), FunctionDef(name='formula', args=arguments(posonlyargs=[], args=[arg(arg='individu', annotation=None, type_comment=None), arg(arg='period', annotation=None, type_comment=None), arg(arg='parameters', annotation=None, type_comment=None)], vararg=None, kwonlyargs=[], kw_defaults=[], kwarg=None, defaults=[]), body=[Assign(targets=[Name(id='coefficent_de_proratisation', ctx=Store())], value=Call(func=Name(id='individu', ctx=Load()), args=[Constant(value='coefficent_de_proratisation', kind=None), Name(id='period', ctx=Load())], keywords=[]), type_comment=None), Assign(targets=[Name(id='salaire_de_reference', ctx=Store())], value=Call(func=Name(id='individu', ctx=Load()), args=[Constant(value='salaire_de_reference', kind=None), Name(id='period', ctx=Load())], keywords=[]), type_comment=None), Assign(targets=[Name(id='taux_de_liquidation', ctx=Store())], value=Call(func=Name(id='individu', ctx=Load()), args=[Constant(value='taux_de_liquidation', kind=None), Name(id='period', ctx=Load())], keywords=[]), type_comment=None), Return(value=BinOp(left=BinOp(left=Name(id='coefficent_de_proratisation', ctx=Load()), op=Mult(), right=Name(id='salaire_de_reference', ctx=Load())), op=Mult(), right=Name(id='taux_de_liquidation', ctx=Load())))], decorator_list=[], returns=None, type_comment=None)], decorator_list=[])\n",
      "\n",
      "\n"
     ]
    }
   ],
   "source": [
    "for el in output_tree2.body:\n",
    "    print(ast.dump(el))\n",
    "    print(\"\\n\")"
   ]
  },
  {
   "cell_type": "code",
   "execution_count": 125,
   "metadata": {},
   "outputs": [
    {
     "ename": "AttributeError",
     "evalue": "module 'ast' has no attribute 'unparse'",
     "output_type": "error",
     "traceback": [
      "\u001b[0;31m---------------------------------------------------------------------------\u001b[0m",
      "\u001b[0;31mAttributeError\u001b[0m                            Traceback (most recent call last)",
      "\u001b[0;32m<ipython-input-125-fb95f3d07936>\u001b[0m in \u001b[0;36m<module>\u001b[0;34m\u001b[0m\n\u001b[0;32m----> 1\u001b[0;31m \u001b[0moutput_code2\u001b[0m \u001b[0;34m=\u001b[0m \u001b[0mast\u001b[0m\u001b[0;34m.\u001b[0m\u001b[0munparse\u001b[0m\u001b[0;34m(\u001b[0m\u001b[0moutput_tree2\u001b[0m\u001b[0;34m)\u001b[0m\u001b[0;34m\u001b[0m\u001b[0;34m\u001b[0m\u001b[0m\n\u001b[0m",
      "\u001b[0;31mAttributeError\u001b[0m: module 'ast' has no attribute 'unparse'"
     ]
    }
   ],
   "source": [
    "output_code2 = ast.unparse(output_tree2)"
   ]
  },
  {
   "cell_type": "code",
   "execution_count": 126,
   "metadata": {},
   "outputs": [
    {
     "ename": "NameError",
     "evalue": "name 'output_code2' is not defined",
     "output_type": "error",
     "traceback": [
      "\u001b[0;31m---------------------------------------------------------------------------\u001b[0m",
      "\u001b[0;31mNameError\u001b[0m                                 Traceback (most recent call last)",
      "\u001b[0;32m<ipython-input-126-0e8bc60351ff>\u001b[0m in \u001b[0;36m<module>\u001b[0;34m\u001b[0m\n\u001b[1;32m      1\u001b[0m \u001b[0;32mwith\u001b[0m \u001b[0mopen\u001b[0m \u001b[0;34m(\u001b[0m\u001b[0;34m\"result_classes_flattened.py\"\u001b[0m\u001b[0;34m,\u001b[0m \u001b[0;34m\"w\"\u001b[0m\u001b[0;34m)\u001b[0m \u001b[0;32mas\u001b[0m \u001b[0mfile\u001b[0m\u001b[0;34m:\u001b[0m\u001b[0;34m\u001b[0m\u001b[0;34m\u001b[0m\u001b[0m\n\u001b[0;32m----> 2\u001b[0;31m     \u001b[0mfile\u001b[0m\u001b[0;34m.\u001b[0m\u001b[0mwrite\u001b[0m\u001b[0;34m(\u001b[0m\u001b[0moutput_code2\u001b[0m\u001b[0;34m)\u001b[0m\u001b[0;34m\u001b[0m\u001b[0;34m\u001b[0m\u001b[0m\n\u001b[0m",
      "\u001b[0;31mNameError\u001b[0m: name 'output_code2' is not defined"
     ]
    }
   ],
   "source": [
    "with open (\"result_classes_flattened.py\", \"w\") as file:\n",
    "    file.write(output_code2)"
   ]
  },
  {
   "cell_type": "code",
   "execution_count": null,
   "metadata": {},
   "outputs": [],
   "source": []
  }
 ],
 "metadata": {
  "kernelspec": {
   "display_name": "Python 3",
   "language": "python",
   "name": "python3"
  },
  "language_info": {
   "codemirror_mode": {
    "name": "ipython",
    "version": 3
   },
   "file_extension": ".py",
   "mimetype": "text/x-python",
   "name": "python",
   "nbconvert_exporter": "python",
   "pygments_lexer": "ipython3",
   "version": "3.8.5"
  }
 },
 "nbformat": 4,
 "nbformat_minor": 4
}
